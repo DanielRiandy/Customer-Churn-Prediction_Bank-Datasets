{
 "cells": [
  {
   "cell_type": "code",
   "execution_count": 1,
   "metadata": {},
   "outputs": [],
   "source": [
    "import pandas as pd\n",
    "import numpy as np\n",
    "import matplotlib.pyplot as plt\n",
    "import seaborn as sns\n",
    "import joblib\n",
    "import warnings\n",
    "import imblearn\n",
    "warnings.filterwarnings('ignore')\n",
    "\n",
    "%matplotlib inline\n",
    "\n",
    "from imblearn.over_sampling import SMOTE\n",
    "from sklearn.model_selection import train_test_split,GridSearchCV,RandomizedSearchCV\n",
    "from sklearn.preprocessing import StandardScaler,MinMaxScaler,RobustScaler\n",
    "from sklearn.metrics import classification_report,confusion_matrix,recall_score,precision_score,accuracy_score,f1_score\n",
    "from sklearn.linear_model import LogisticRegression\n",
    "from sklearn.neighbors import KNeighborsClassifier\n",
    "from sklearn.ensemble import RandomForestClassifier\n",
    "from sklearn.svm import SVC\n",
    "from xgboost import XGBClassifier\n",
    "from sklearn.utils import resample"
   ]
  },
  {
   "cell_type": "code",
   "execution_count": 2,
   "metadata": {},
   "outputs": [
    {
     "data": {
      "text/html": [
       "<div>\n",
       "<style scoped>\n",
       "    .dataframe tbody tr th:only-of-type {\n",
       "        vertical-align: middle;\n",
       "    }\n",
       "\n",
       "    .dataframe tbody tr th {\n",
       "        vertical-align: top;\n",
       "    }\n",
       "\n",
       "    .dataframe thead th {\n",
       "        text-align: right;\n",
       "    }\n",
       "</style>\n",
       "<table border=\"1\" class=\"dataframe\">\n",
       "  <thead>\n",
       "    <tr style=\"text-align: right;\">\n",
       "      <th></th>\n",
       "      <th>age</th>\n",
       "      <th>dependents</th>\n",
       "      <th>occupation</th>\n",
       "      <th>customer_nw_category</th>\n",
       "      <th>current_balance</th>\n",
       "      <th>current_month_credit</th>\n",
       "      <th>previous_month_credit</th>\n",
       "      <th>churn</th>\n",
       "      <th>gender_Female</th>\n",
       "      <th>gender_Male</th>\n",
       "    </tr>\n",
       "  </thead>\n",
       "  <tbody>\n",
       "    <tr>\n",
       "      <th>0</th>\n",
       "      <td>66</td>\n",
       "      <td>0</td>\n",
       "      <td>2</td>\n",
       "      <td>1</td>\n",
       "      <td>1458.71</td>\n",
       "      <td>0.20</td>\n",
       "      <td>0.20</td>\n",
       "      <td>0</td>\n",
       "      <td>0</td>\n",
       "      <td>1</td>\n",
       "    </tr>\n",
       "    <tr>\n",
       "      <th>1</th>\n",
       "      <td>35</td>\n",
       "      <td>0</td>\n",
       "      <td>2</td>\n",
       "      <td>1</td>\n",
       "      <td>5390.37</td>\n",
       "      <td>0.56</td>\n",
       "      <td>0.56</td>\n",
       "      <td>0</td>\n",
       "      <td>0</td>\n",
       "      <td>1</td>\n",
       "    </tr>\n",
       "    <tr>\n",
       "      <th>2</th>\n",
       "      <td>31</td>\n",
       "      <td>0</td>\n",
       "      <td>1</td>\n",
       "      <td>1</td>\n",
       "      <td>3913.16</td>\n",
       "      <td>0.61</td>\n",
       "      <td>0.61</td>\n",
       "      <td>0</td>\n",
       "      <td>0</td>\n",
       "      <td>1</td>\n",
       "    </tr>\n",
       "    <tr>\n",
       "      <th>3</th>\n",
       "      <td>90</td>\n",
       "      <td>0</td>\n",
       "      <td>2</td>\n",
       "      <td>1</td>\n",
       "      <td>2291.91</td>\n",
       "      <td>0.47</td>\n",
       "      <td>0.47</td>\n",
       "      <td>1</td>\n",
       "      <td>0</td>\n",
       "      <td>1</td>\n",
       "    </tr>\n",
       "    <tr>\n",
       "      <th>4</th>\n",
       "      <td>42</td>\n",
       "      <td>1</td>\n",
       "      <td>2</td>\n",
       "      <td>0</td>\n",
       "      <td>927.72</td>\n",
       "      <td>0.33</td>\n",
       "      <td>714.61</td>\n",
       "      <td>1</td>\n",
       "      <td>0</td>\n",
       "      <td>1</td>\n",
       "    </tr>\n",
       "  </tbody>\n",
       "</table>\n",
       "</div>"
      ],
      "text/plain": [
       "   age  dependents  occupation  customer_nw_category  current_balance  \\\n",
       "0   66           0           2                     1          1458.71   \n",
       "1   35           0           2                     1          5390.37   \n",
       "2   31           0           1                     1          3913.16   \n",
       "3   90           0           2                     1          2291.91   \n",
       "4   42           1           2                     0           927.72   \n",
       "\n",
       "   current_month_credit  previous_month_credit  churn  gender_Female  \\\n",
       "0                  0.20                   0.20      0              0   \n",
       "1                  0.56                   0.56      0              0   \n",
       "2                  0.61                   0.61      0              0   \n",
       "3                  0.47                   0.47      1              0   \n",
       "4                  0.33                 714.61      1              0   \n",
       "\n",
       "   gender_Male  \n",
       "0            1  \n",
       "1            1  \n",
       "2            1  \n",
       "3            1  \n",
       "4            1  "
      ]
     },
     "execution_count": 2,
     "metadata": {},
     "output_type": "execute_result"
    }
   ],
   "source": [
    "df = pd.read_csv(\"./Datasets/df_ohgender.csv\",index_col=\"Unnamed: 0\")\n",
    "df.head()"
   ]
  },
  {
   "cell_type": "code",
   "execution_count": 3,
   "metadata": {},
   "outputs": [
    {
     "data": {
      "text/plain": [
       "0    23122\n",
       "1     5260\n",
       "Name: churn, dtype: int64"
      ]
     },
     "execution_count": 3,
     "metadata": {},
     "output_type": "execute_result"
    }
   ],
   "source": [
    "df[\"churn\"].value_counts()"
   ]
  },
  {
   "cell_type": "code",
   "execution_count": 4,
   "metadata": {},
   "outputs": [
    {
     "data": {
      "text/html": [
       "<div>\n",
       "<style scoped>\n",
       "    .dataframe tbody tr th:only-of-type {\n",
       "        vertical-align: middle;\n",
       "    }\n",
       "\n",
       "    .dataframe tbody tr th {\n",
       "        vertical-align: top;\n",
       "    }\n",
       "\n",
       "    .dataframe thead th {\n",
       "        text-align: right;\n",
       "    }\n",
       "</style>\n",
       "<table border=\"1\" class=\"dataframe\">\n",
       "  <thead>\n",
       "    <tr style=\"text-align: right;\">\n",
       "      <th>col_0</th>\n",
       "      <th>%</th>\n",
       "    </tr>\n",
       "    <tr>\n",
       "      <th>churn</th>\n",
       "      <th></th>\n",
       "    </tr>\n",
       "  </thead>\n",
       "  <tbody>\n",
       "    <tr>\n",
       "      <th>0</th>\n",
       "      <td>0.814671</td>\n",
       "    </tr>\n",
       "    <tr>\n",
       "      <th>1</th>\n",
       "      <td>0.185329</td>\n",
       "    </tr>\n",
       "  </tbody>\n",
       "</table>\n",
       "</div>"
      ],
      "text/plain": [
       "col_0         %\n",
       "churn          \n",
       "0      0.814671\n",
       "1      0.185329"
      ]
     },
     "execution_count": 4,
     "metadata": {},
     "output_type": "execute_result"
    }
   ],
   "source": [
    "pd.crosstab(index=df[\"churn\"],columns=\"%\",normalize=True)"
   ]
  },
  {
   "cell_type": "code",
   "execution_count": 5,
   "metadata": {},
   "outputs": [
    {
     "data": {
      "text/plain": [
       "((22705, 9), (5677, 9), (22705,), (5677,))"
      ]
     },
     "execution_count": 5,
     "metadata": {},
     "output_type": "execute_result"
    }
   ],
   "source": [
    "x = df.drop(columns=[\"churn\"])\n",
    "y = df[\"churn\"]\n",
    "\n",
    "x_train,x_test,y_train,y_test = train_test_split(x,y,train_size=0.8,stratify=y,random_state=42)\n",
    "x_train.shape,x_test.shape,y_train.shape,y_test.shape"
   ]
  },
  {
   "cell_type": "markdown",
   "metadata": {},
   "source": [
    "## HANDLING IMBALACE DATA --- SMOTE\n",
    "    Salah satu cara yang paling mundah untuk memperbaiki data yang tidak seimbang adalah dengan membuat data tersebut menjadi seimbang adalah Oversampling pada minority kelas atau Undersampling pada majority class. Dengan metode Over/under sampling dengan mudah dapat membaut data-set menjadi seimbang tetapi metode ini mempunyai kelemahan, Ovesampling pada data-set minority akan menuju model yang overfitting, karena Oversampling dilakukan dengan duplikasi data yang sudah mempunyai nilai yang sudah kecil, Undersampling pada majority juga dapat mengakibat data yang penting pembeda dua kelas menjadi diluar dari data-set.\n",
    "<br>\n",
    "\n",
    "    Metode Synthetic Minority Over-samplingTechnique (SMOTE) merupakan metode yang populer diterapkan dalam rangka menangani ketidak seimbangan kelas. Teknik ini mensintesis sampel baru dari kelas minoritas untuk menyeimbangkan dataset dengan cara membuat instance baru dari minority class dengan pembentukan convex kombanasi dari instances yang saling berdekatan. Dengan metode ini dapat membuat data-set menjadi seimbang tanpa terlalu overfit, yaitu dengan membuat sample synthetic daripada dengan melakukan duplicate sample."
   ]
  },
  {
   "cell_type": "code",
   "execution_count": 6,
   "metadata": {},
   "outputs": [
    {
     "data": {
      "text/plain": [
       "((36994, 9), (36994,))"
      ]
     },
     "execution_count": 6,
     "metadata": {},
     "output_type": "execute_result"
    }
   ],
   "source": [
    "sm = SMOTE(random_state=42)\n",
    "x_train,y_train = sm.fit_sample(x_train,y_train)\n",
    "x_train.shape,y_train.shape"
   ]
  },
  {
   "cell_type": "markdown",
   "metadata": {},
   "source": [
    "## BASE MODEL UNTUK MACHINE LEARNING :\n",
    "    1. Logistic Regression\n",
    "    2. Random Forest\n",
    "    3. Extreme Gradient Boosting (XGBOOST)"
   ]
  },
  {
   "cell_type": "markdown",
   "metadata": {},
   "source": [
    "## LOGISTIC REGRESSION"
   ]
  },
  {
   "cell_type": "code",
   "execution_count": 7,
   "metadata": {},
   "outputs": [],
   "source": [
    "LR = LogisticRegression()"
   ]
  },
  {
   "cell_type": "code",
   "execution_count": 8,
   "metadata": {},
   "outputs": [
    {
     "data": {
      "text/plain": [
       "LogisticRegression()"
      ]
     },
     "execution_count": 8,
     "metadata": {},
     "output_type": "execute_result"
    }
   ],
   "source": [
    "LR.fit(x_train,y_train)"
   ]
  },
  {
   "cell_type": "code",
   "execution_count": 9,
   "metadata": {},
   "outputs": [],
   "source": [
    "y_LR_train = LR.predict(x_train)\n",
    "y_LR_test = LR.predict(x_test)"
   ]
  },
  {
   "cell_type": "code",
   "execution_count": 10,
   "metadata": {},
   "outputs": [],
   "source": [
    "accuracy_LR_train = accuracy_score(y_train,y_LR_train)\n",
    "precision_LR_train = precision_score(y_train,y_LR_train)\n",
    "recall_LR_train = recall_score(y_train,y_LR_train)\n",
    "f1_LR_train = f1_score(y_train,y_LR_train)\n",
    "\n",
    "accuracy_LR_test = accuracy_score(y_test,y_LR_test)\n",
    "precision_LR_test = precision_score(y_test,y_LR_test)\n",
    "recall_LR_test = recall_score(y_test,y_LR_test)\n",
    "f1_LR_test = f1_score(y_test,y_LR_test)"
   ]
  },
  {
   "cell_type": "code",
   "execution_count": 11,
   "metadata": {},
   "outputs": [
    {
     "name": "stdout",
     "output_type": "stream",
     "text": [
      "EVALUATION MATRIX LOGISTIC REGRESSION :\n",
      "Accuracy =  0.5998810617938044  VS  0.8051787916152897\n",
      "Precision =  0.762317194377396  VS  0.4623955431754875\n",
      "Recall =  0.2902632859382603  VS  0.3155893536121673\n",
      "F1_Score =  0.4204385277995302  VS  0.37514124293785306\n"
     ]
    }
   ],
   "source": [
    "print(\"EVALUATION MATRIX LOGISTIC REGRESSION :\")\n",
    "print(\"Accuracy = \",accuracy_LR_train,\" VS \",accuracy_LR_test)\n",
    "print(\"Precision = \",precision_LR_train,\" VS \",precision_LR_test)\n",
    "print(\"Recall = \",recall_LR_train,\" VS \",recall_LR_test)\n",
    "print(\"F1_Score = \",f1_LR_train,\" VS \",f1_LR_test)"
   ]
  },
  {
   "cell_type": "code",
   "execution_count": 12,
   "metadata": {},
   "outputs": [
    {
     "data": {
      "text/html": [
       "<div>\n",
       "<style scoped>\n",
       "    .dataframe tbody tr th:only-of-type {\n",
       "        vertical-align: middle;\n",
       "    }\n",
       "\n",
       "    .dataframe tbody tr th {\n",
       "        vertical-align: top;\n",
       "    }\n",
       "\n",
       "    .dataframe thead th {\n",
       "        text-align: right;\n",
       "    }\n",
       "</style>\n",
       "<table border=\"1\" class=\"dataframe\">\n",
       "  <thead>\n",
       "    <tr style=\"text-align: right;\">\n",
       "      <th></th>\n",
       "      <th>Pred_1</th>\n",
       "      <th>Pred_0</th>\n",
       "    </tr>\n",
       "  </thead>\n",
       "  <tbody>\n",
       "    <tr>\n",
       "      <th>Aktual_1</th>\n",
       "      <td>332</td>\n",
       "      <td>720</td>\n",
       "    </tr>\n",
       "    <tr>\n",
       "      <th>Aktual_0</th>\n",
       "      <td>386</td>\n",
       "      <td>4239</td>\n",
       "    </tr>\n",
       "  </tbody>\n",
       "</table>\n",
       "</div>"
      ],
      "text/plain": [
       "          Pred_1  Pred_0\n",
       "Aktual_1     332     720\n",
       "Aktual_0     386    4239"
      ]
     },
     "execution_count": 12,
     "metadata": {},
     "output_type": "execute_result"
    }
   ],
   "source": [
    "cm_LR = confusion_matrix(y_test,y_LR_test,labels=[1,0])\n",
    "df_cm_LR = pd.DataFrame(data=cm_LR,columns=[\"Pred_1\",\"Pred_0\"],index=[\"Aktual_1\",\"Aktual_0\"])\n",
    "df_cm_LR"
   ]
  },
  {
   "cell_type": "code",
   "execution_count": 13,
   "metadata": {},
   "outputs": [
    {
     "data": {
      "text/plain": [
       "<matplotlib.axes._subplots.AxesSubplot at 0x1ed1f094a90>"
      ]
     },
     "execution_count": 13,
     "metadata": {},
     "output_type": "execute_result"
    },
    {
     "data": {
      "image/png": "[encoded data removed]",
      "text/plain": [
       "<Figure size 432x288 with 2 Axes>"
      ]
     },
     "metadata": {
      "needs_background": "light"
     },
     "output_type": "display_data"
    }
   ],
   "source": [
    "sns.heatmap(df_cm_LR,annot=True)"
   ]
  },
  {
   "cell_type": "markdown",
   "metadata": {},
   "source": [
    "### LOGREG SCALED"
   ]
  },
  {
   "cell_type": "code",
   "execution_count": 14,
   "metadata": {},
   "outputs": [],
   "source": [
    "scaler = StandardScaler()\n",
    "x_train_scaled = scaler.fit_transform(x_train)\n",
    "x_test_scaled = scaler.fit_transform(x_test)"
   ]
  },
  {
   "cell_type": "code",
   "execution_count": 15,
   "metadata": {},
   "outputs": [],
   "source": [
    "LR_Scaled = LogisticRegression()"
   ]
  },
  {
   "cell_type": "code",
   "execution_count": 16,
   "metadata": {},
   "outputs": [
    {
     "data": {
      "text/plain": [
       "LogisticRegression()"
      ]
     },
     "execution_count": 16,
     "metadata": {},
     "output_type": "execute_result"
    }
   ],
   "source": [
    "LR_Scaled.fit(x_train_scaled,y_train)"
   ]
  },
  {
   "cell_type": "code",
   "execution_count": 17,
   "metadata": {},
   "outputs": [],
   "source": [
    "y_LR_train_scaled = LR_Scaled.predict(x_train_scaled)\n",
    "y_LR_test_scaled = LR_Scaled.predict(x_test_scaled)"
   ]
  },
  {
   "cell_type": "code",
   "execution_count": 18,
   "metadata": {},
   "outputs": [],
   "source": [
    "accuracy_LR_train_scaled = accuracy_score(y_train,y_LR_train_scaled)\n",
    "precision_LR_train_scaled = precision_score(y_train,y_LR_train_scaled)\n",
    "recall_LR_train_scaled = recall_score(y_train,y_LR_train_scaled)\n",
    "f1_LR_train_scaled = f1_score(y_train,y_LR_train_scaled)\n",
    "\n",
    "accuracy_LR_test_scaled = accuracy_score(y_test,y_LR_test_scaled)\n",
    "precision_LR_test_scaled = precision_score(y_test,y_LR_test_scaled)\n",
    "recall_LR_test_scaled = recall_score(y_test,y_LR_test_scaled)\n",
    "f1_LR_test_scaled = f1_score(y_test,y_LR_test_scaled)"
   ]
  },
  {
   "cell_type": "code",
   "execution_count": 19,
   "metadata": {},
   "outputs": [
    {
     "name": "stdout",
     "output_type": "stream",
     "text": [
      "EVALUATION MATRIX KNN SCALED :\n",
      "Accuracy =  0.6986268043466508  VS  0.20574246961423287\n",
      "Precision =  0.8443298969072165  VS  0.1873756556339302\n",
      "Recall =  0.4870519543709791  VS  0.9847908745247148\n",
      "F1_Score =  0.6177529399664003  VS  0.3148457681203464\n"
     ]
    }
   ],
   "source": [
    "print(\"EVALUATION MATRIX KNN SCALED :\")\n",
    "print(\"Accuracy = \",accuracy_LR_train_scaled,\" VS \",accuracy_LR_test_scaled)\n",
    "print(\"Precision = \",precision_LR_train_scaled,\" VS \",precision_LR_test_scaled)\n",
    "print(\"Recall = \",recall_LR_train_scaled,\" VS \",recall_LR_test_scaled)\n",
    "print(\"F1_Score = \",f1_LR_train_scaled,\" VS \",f1_LR_test_scaled)"
   ]
  },
  {
   "cell_type": "code",
   "execution_count": 20,
   "metadata": {},
   "outputs": [
    {
     "data": {
      "text/html": [
       "<div>\n",
       "<style scoped>\n",
       "    .dataframe tbody tr th:only-of-type {\n",
       "        vertical-align: middle;\n",
       "    }\n",
       "\n",
       "    .dataframe tbody tr th {\n",
       "        vertical-align: top;\n",
       "    }\n",
       "\n",
       "    .dataframe thead th {\n",
       "        text-align: right;\n",
       "    }\n",
       "</style>\n",
       "<table border=\"1\" class=\"dataframe\">\n",
       "  <thead>\n",
       "    <tr style=\"text-align: right;\">\n",
       "      <th></th>\n",
       "      <th>Pred_1</th>\n",
       "      <th>Pred_0</th>\n",
       "    </tr>\n",
       "  </thead>\n",
       "  <tbody>\n",
       "    <tr>\n",
       "      <th>Aktual_1</th>\n",
       "      <td>1036</td>\n",
       "      <td>16</td>\n",
       "    </tr>\n",
       "    <tr>\n",
       "      <th>Aktual_0</th>\n",
       "      <td>4493</td>\n",
       "      <td>132</td>\n",
       "    </tr>\n",
       "  </tbody>\n",
       "</table>\n",
       "</div>"
      ],
      "text/plain": [
       "          Pred_1  Pred_0\n",
       "Aktual_1    1036      16\n",
       "Aktual_0    4493     132"
      ]
     },
     "execution_count": 20,
     "metadata": {},
     "output_type": "execute_result"
    }
   ],
   "source": [
    "cm_LR_scaled = confusion_matrix(y_test,y_LR_test_scaled,labels=[1,0])\n",
    "df_cm_LR_scaled = pd.DataFrame(data=cm_LR_scaled,columns=[\"Pred_1\",\"Pred_0\"],index=[\"Aktual_1\",\"Aktual_0\"])\n",
    "df_cm_LR_scaled"
   ]
  },
  {
   "cell_type": "code",
   "execution_count": 21,
   "metadata": {},
   "outputs": [
    {
     "data": {
      "text/plain": [
       "<matplotlib.axes._subplots.AxesSubplot at 0x1ed1f19fa30>"
      ]
     },
     "execution_count": 21,
     "metadata": {},
     "output_type": "execute_result"
    },
    {
     "data": {
      "image/png": "[encoded data removed]",
      "text/plain": [
       "<Figure size 432x288 with 2 Axes>"
      ]
     },
     "metadata": {
      "needs_background": "light"
     },
     "output_type": "display_data"
    }
   ],
   "source": [
    "sns.heatmap(df_cm_LR_scaled,annot=True)"
   ]
  },
  {
   "cell_type": "markdown",
   "metadata": {},
   "source": [
    "### RANDOM FOREST"
   ]
  },
  {
   "cell_type": "code",
   "execution_count": 22,
   "metadata": {},
   "outputs": [],
   "source": [
    "RF = RandomForestClassifier()"
   ]
  },
  {
   "cell_type": "code",
   "execution_count": 23,
   "metadata": {},
   "outputs": [
    {
     "data": {
      "text/plain": [
       "RandomForestClassifier()"
      ]
     },
     "execution_count": 23,
     "metadata": {},
     "output_type": "execute_result"
    }
   ],
   "source": [
    "RF.fit(x_train,y_train)"
   ]
  },
  {
   "cell_type": "code",
   "execution_count": 24,
   "metadata": {},
   "outputs": [],
   "source": [
    "y_RF_train = RF.predict(x_train)\n",
    "y_RF_test = RF.predict(x_test)"
   ]
  },
  {
   "cell_type": "code",
   "execution_count": 25,
   "metadata": {},
   "outputs": [],
   "source": [
    "accuracy_RF_train = accuracy_score(y_train,y_RF_train)\n",
    "precision_RF_train= precision_score(y_train,y_RF_train)\n",
    "recall_RF_train = recall_score(y_train,y_RF_train)\n",
    "f1_RF_train = f1_score(y_train,y_RF_train)\n",
    "\n",
    "accuracy_RF_test = accuracy_score(y_test,y_RF_test)\n",
    "precision_RF_test= precision_score(y_test,y_RF_test)\n",
    "recall_RF_test = recall_score(y_test,y_RF_test)\n",
    "f1_RF_test = f1_score(y_test,y_RF_test)"
   ]
  },
  {
   "cell_type": "code",
   "execution_count": 26,
   "metadata": {},
   "outputs": [
    {
     "name": "stdout",
     "output_type": "stream",
     "text": [
      "EVALUATION MATRIX RANDOM FOREST :\n",
      "Accuracy =  1.0  VS  0.8205037872115554\n",
      "Precision =  1.0  VS  0.5193434935521688\n",
      "Recall =  1.0  VS  0.4211026615969582\n",
      "F1_Score =  1.0  VS  0.46509186351706033\n"
     ]
    }
   ],
   "source": [
    "print(\"EVALUATION MATRIX RANDOM FOREST :\")\n",
    "print(\"Accuracy = \",accuracy_RF_train,\" VS \",accuracy_RF_test)\n",
    "print(\"Precision = \",precision_RF_train,\" VS \",precision_RF_test)\n",
    "print(\"Recall = \",recall_RF_train,\" VS \",recall_RF_test)\n",
    "print(\"F1_Score = \",f1_RF_train,\" VS \",f1_RF_test)"
   ]
  },
  {
   "cell_type": "code",
   "execution_count": 27,
   "metadata": {},
   "outputs": [
    {
     "data": {
      "text/html": [
       "<div>\n",
       "<style scoped>\n",
       "    .dataframe tbody tr th:only-of-type {\n",
       "        vertical-align: middle;\n",
       "    }\n",
       "\n",
       "    .dataframe tbody tr th {\n",
       "        vertical-align: top;\n",
       "    }\n",
       "\n",
       "    .dataframe thead th {\n",
       "        text-align: right;\n",
       "    }\n",
       "</style>\n",
       "<table border=\"1\" class=\"dataframe\">\n",
       "  <thead>\n",
       "    <tr style=\"text-align: right;\">\n",
       "      <th></th>\n",
       "      <th>Pred_1</th>\n",
       "      <th>Pred_0</th>\n",
       "    </tr>\n",
       "  </thead>\n",
       "  <tbody>\n",
       "    <tr>\n",
       "      <th>Aktual_1</th>\n",
       "      <td>443</td>\n",
       "      <td>609</td>\n",
       "    </tr>\n",
       "    <tr>\n",
       "      <th>Aktual_0</th>\n",
       "      <td>410</td>\n",
       "      <td>4215</td>\n",
       "    </tr>\n",
       "  </tbody>\n",
       "</table>\n",
       "</div>"
      ],
      "text/plain": [
       "          Pred_1  Pred_0\n",
       "Aktual_1     443     609\n",
       "Aktual_0     410    4215"
      ]
     },
     "execution_count": 27,
     "metadata": {},
     "output_type": "execute_result"
    }
   ],
   "source": [
    "cm_RF = confusion_matrix(y_test,y_RF_test,labels=[1,0])\n",
    "df_cm_RF = pd.DataFrame(data=cm_RF,columns=[\"Pred_1\",\"Pred_0\"],index=[\"Aktual_1\",\"Aktual_0\"])\n",
    "df_cm_RF"
   ]
  },
  {
   "cell_type": "code",
   "execution_count": 28,
   "metadata": {},
   "outputs": [
    {
     "data": {
      "text/plain": [
       "<matplotlib.axes._subplots.AxesSubplot at 0x1ed1f4032e0>"
      ]
     },
     "execution_count": 28,
     "metadata": {},
     "output_type": "execute_result"
    },
    {
     "data": {
      "image/png": "[encoded data removed]",
      "text/plain": [
       "<Figure size 432x288 with 2 Axes>"
      ]
     },
     "metadata": {
      "needs_background": "light"
     },
     "output_type": "display_data"
    }
   ],
   "source": [
    "sns.heatmap(df_cm_RF,annot=True)"
   ]
  },
  {
   "cell_type": "markdown",
   "metadata": {},
   "source": [
    "### XGBOOST"
   ]
  },
  {
   "cell_type": "code",
   "execution_count": 29,
   "metadata": {},
   "outputs": [],
   "source": [
    "XGB = XGBClassifier()"
   ]
  },
  {
   "cell_type": "code",
   "execution_count": 30,
   "metadata": {},
   "outputs": [
    {
     "data": {
      "text/plain": [
       "XGBClassifier(base_score=0.5, booster='gbtree', colsample_bylevel=1,\n",
       "              colsample_bynode=1, colsample_bytree=1, gamma=0, gpu_id=-1,\n",
       "              importance_type='gain', interaction_constraints='',\n",
       "              learning_rate=0.300000012, max_delta_step=0, max_depth=6,\n",
       "              min_child_weight=1, missing=nan, monotone_constraints='()',\n",
       "              n_estimators=100, n_jobs=0, num_parallel_tree=1, random_state=0,\n",
       "              reg_alpha=0, reg_lambda=1, scale_pos_weight=1, subsample=1,\n",
       "              tree_method='exact', validate_parameters=1, verbosity=None)"
      ]
     },
     "execution_count": 30,
     "metadata": {},
     "output_type": "execute_result"
    }
   ],
   "source": [
    "XGB.fit(x_train,y_train)"
   ]
  },
  {
   "cell_type": "code",
   "execution_count": 31,
   "metadata": {},
   "outputs": [],
   "source": [
    "y_XGB_train = XGB.predict(x_train)\n",
    "y_XGB_test = XGB.predict(x_test)"
   ]
  },
  {
   "cell_type": "code",
   "execution_count": 32,
   "metadata": {},
   "outputs": [],
   "source": [
    "accuracy_XGB_train = accuracy_score(y_train,y_XGB_train)\n",
    "precision_XGB_train= precision_score(y_train,y_XGB_train)\n",
    "recall_XGB_train = recall_score(y_train,y_XGB_train)\n",
    "f1_XGB_train= f1_score(y_train,y_XGB_train)\n",
    "\n",
    "accuracy_XGB_test = accuracy_score(y_test,y_XGB_test)\n",
    "precision_XGB_test= precision_score(y_test,y_XGB_test)\n",
    "recall_XGB_test = recall_score(y_test,y_XGB_test)\n",
    "f1_XGB_test = f1_score(y_test,y_XGB_test)"
   ]
  },
  {
   "cell_type": "code",
   "execution_count": 33,
   "metadata": {},
   "outputs": [
    {
     "name": "stdout",
     "output_type": "stream",
     "text": [
      "EVALUATION MATRIX EXTREME GRADIENT BOOSTING :\n",
      "Accuracy =  0.9023084824566145  VS  0.83019200281839\n",
      "Precision =  0.9456788644666707  VS  0.5540540540540541\n",
      "Recall =  0.8536519435584149  VS  0.42870722433460073\n",
      "F1_Score =  0.8973120418253111  VS  0.4833869239013933\n"
     ]
    }
   ],
   "source": [
    "print(\"EVALUATION MATRIX EXTREME GRADIENT BOOSTING :\")\n",
    "print(\"Accuracy = \",accuracy_XGB_train,\" VS \",accuracy_XGB_test)\n",
    "print(\"Precision = \",precision_XGB_train,\" VS \",precision_XGB_test)\n",
    "print(\"Recall = \",recall_XGB_train,\" VS \",recall_XGB_test)\n",
    "print(\"F1_Score = \",f1_XGB_train,\" VS \",f1_XGB_test)"
   ]
  },
  {
   "cell_type": "code",
   "execution_count": 34,
   "metadata": {},
   "outputs": [
    {
     "data": {
      "text/html": [
       "<div>\n",
       "<style scoped>\n",
       "    .dataframe tbody tr th:only-of-type {\n",
       "        vertical-align: middle;\n",
       "    }\n",
       "\n",
       "    .dataframe tbody tr th {\n",
       "        vertical-align: top;\n",
       "    }\n",
       "\n",
       "    .dataframe thead th {\n",
       "        text-align: right;\n",
       "    }\n",
       "</style>\n",
       "<table border=\"1\" class=\"dataframe\">\n",
       "  <thead>\n",
       "    <tr style=\"text-align: right;\">\n",
       "      <th></th>\n",
       "      <th>Pred_1</th>\n",
       "      <th>Pred_0</th>\n",
       "    </tr>\n",
       "  </thead>\n",
       "  <tbody>\n",
       "    <tr>\n",
       "      <th>Aktual_1</th>\n",
       "      <td>451</td>\n",
       "      <td>601</td>\n",
       "    </tr>\n",
       "    <tr>\n",
       "      <th>Aktual_0</th>\n",
       "      <td>363</td>\n",
       "      <td>4262</td>\n",
       "    </tr>\n",
       "  </tbody>\n",
       "</table>\n",
       "</div>"
      ],
      "text/plain": [
       "          Pred_1  Pred_0\n",
       "Aktual_1     451     601\n",
       "Aktual_0     363    4262"
      ]
     },
     "execution_count": 34,
     "metadata": {},
     "output_type": "execute_result"
    }
   ],
   "source": [
    "cm_XGB = confusion_matrix(y_test,y_XGB_test,labels=[1,0])\n",
    "df_cm_XGB = pd.DataFrame(data=cm_XGB,columns=[\"Pred_1\",\"Pred_0\"],index=[\"Aktual_1\",\"Aktual_0\"])\n",
    "df_cm_XGB"
   ]
  },
  {
   "cell_type": "code",
   "execution_count": 35,
   "metadata": {},
   "outputs": [
    {
     "data": {
      "text/plain": [
       "<matplotlib.axes._subplots.AxesSubplot at 0x1ed1f48aa90>"
      ]
     },
     "execution_count": 35,
     "metadata": {},
     "output_type": "execute_result"
    },
    {
     "data": {
      "image/png": "[encoded data removed]",
      "text/plain": [
       "<Figure size 432x288 with 2 Axes>"
      ]
     },
     "metadata": {
      "needs_background": "light"
     },
     "output_type": "display_data"
    }
   ],
   "source": [
    "sns.heatmap(df_cm_XGB,annot=True)"
   ]
  },
  {
   "cell_type": "markdown",
   "metadata": {},
   "source": [
    "## SUPPORT VECTOR MACHINE"
   ]
  },
  {
   "cell_type": "code",
   "execution_count": 36,
   "metadata": {},
   "outputs": [],
   "source": [
    "SVM = SVC()"
   ]
  },
  {
   "cell_type": "code",
   "execution_count": 37,
   "metadata": {},
   "outputs": [
    {
     "data": {
      "text/plain": [
       "SVC()"
      ]
     },
     "execution_count": 37,
     "metadata": {},
     "output_type": "execute_result"
    }
   ],
   "source": [
    "SVM.fit(x_train,y_train)"
   ]
  },
  {
   "cell_type": "code",
   "execution_count": 38,
   "metadata": {},
   "outputs": [],
   "source": [
    "y_SVM_train = SVM.predict(x_train)\n",
    "y_SVM_test = SVM.predict(x_test)"
   ]
  },
  {
   "cell_type": "code",
   "execution_count": 39,
   "metadata": {},
   "outputs": [],
   "source": [
    "accuracy_SVM_train = accuracy_score(y_train,y_SVM_train)\n",
    "precision_SVM_train= precision_score(y_train,y_SVM_train)\n",
    "recall_SVM_train = recall_score(y_train,y_SVM_train)\n",
    "f1_SVM_train= f1_score(y_train,y_SVM_train)\n",
    "\n",
    "accuracy_SVM_test = accuracy_score(y_test,y_SVM_test)\n",
    "precision_SVM_test= precision_score(y_test,y_SVM_test)\n",
    "recall_SVM_test = recall_score(y_test,y_SVM_test)\n",
    "f1_SVM_test = f1_score(y_test,y_SVM_test)"
   ]
  },
  {
   "cell_type": "code",
   "execution_count": 40,
   "metadata": {},
   "outputs": [
    {
     "name": "stdout",
     "output_type": "stream",
     "text": [
      "EVALUATION MATRIX SVM :\n",
      "Accuracy =  0.5846623776828674  VS  0.4449533204157125\n",
      "Precision =  0.5573164482834346  VS  0.2270481144343303\n",
      "Recall =  0.8232145753365411  VS  0.8298479087452472\n",
      "F1_Score =  0.664658766014099  VS  0.3565448233612416\n"
     ]
    }
   ],
   "source": [
    "print(\"EVALUATION MATRIX SVM :\")\n",
    "print(\"Accuracy = \",accuracy_SVM_train,\" VS \",accuracy_SVM_test)\n",
    "print(\"Precision = \",precision_SVM_train,\" VS \",precision_SVM_test)\n",
    "print(\"Recall = \",recall_SVM_train,\" VS \",recall_SVM_test)\n",
    "print(\"F1_Score = \",f1_SVM_train,\" VS \",f1_SVM_test)"
   ]
  },
  {
   "cell_type": "code",
   "execution_count": 41,
   "metadata": {},
   "outputs": [
    {
     "data": {
      "text/html": [
       "<div>\n",
       "<style scoped>\n",
       "    .dataframe tbody tr th:only-of-type {\n",
       "        vertical-align: middle;\n",
       "    }\n",
       "\n",
       "    .dataframe tbody tr th {\n",
       "        vertical-align: top;\n",
       "    }\n",
       "\n",
       "    .dataframe thead th {\n",
       "        text-align: right;\n",
       "    }\n",
       "</style>\n",
       "<table border=\"1\" class=\"dataframe\">\n",
       "  <thead>\n",
       "    <tr style=\"text-align: right;\">\n",
       "      <th></th>\n",
       "      <th>Pred_1</th>\n",
       "      <th>Pred_0</th>\n",
       "    </tr>\n",
       "  </thead>\n",
       "  <tbody>\n",
       "    <tr>\n",
       "      <th>Aktual_1</th>\n",
       "      <td>873</td>\n",
       "      <td>179</td>\n",
       "    </tr>\n",
       "    <tr>\n",
       "      <th>Aktual_0</th>\n",
       "      <td>2972</td>\n",
       "      <td>1653</td>\n",
       "    </tr>\n",
       "  </tbody>\n",
       "</table>\n",
       "</div>"
      ],
      "text/plain": [
       "          Pred_1  Pred_0\n",
       "Aktual_1     873     179\n",
       "Aktual_0    2972    1653"
      ]
     },
     "execution_count": 41,
     "metadata": {},
     "output_type": "execute_result"
    }
   ],
   "source": [
    "cm_SVM = confusion_matrix(y_test,y_SVM_test,labels=[1,0])\n",
    "df_cm_SVM= pd.DataFrame(data=cm_SVM,columns=[\"Pred_1\",\"Pred_0\"],index=[\"Aktual_1\",\"Aktual_0\"])\n",
    "df_cm_SVM"
   ]
  },
  {
   "cell_type": "code",
   "execution_count": 42,
   "metadata": {},
   "outputs": [
    {
     "data": {
      "text/plain": [
       "<matplotlib.axes._subplots.AxesSubplot at 0x1ed27a73550>"
      ]
     },
     "execution_count": 42,
     "metadata": {},
     "output_type": "execute_result"
    },
    {
     "data": {
      "image/png": "[encoded data removed]",
      "text/plain": [
       "<Figure size 432x288 with 2 Axes>"
      ]
     },
     "metadata": {
      "needs_background": "light"
     },
     "output_type": "display_data"
    }
   ],
   "source": [
    "sns.heatmap(df_cm_SVM,annot=True)"
   ]
  },
  {
   "cell_type": "markdown",
   "metadata": {},
   "source": [
    "# SVM SCALED"
   ]
  },
  {
   "cell_type": "code",
   "execution_count": 43,
   "metadata": {},
   "outputs": [],
   "source": [
    "scaler_svm = StandardScaler()\n",
    "x_train_svm = scaler_svm.fit_transform(x_train)\n",
    "x_test_svm = scaler_svm.fit_transform(x_test)"
   ]
  },
  {
   "cell_type": "code",
   "execution_count": 44,
   "metadata": {},
   "outputs": [],
   "source": [
    "SVM_scaled = SVC()"
   ]
  },
  {
   "cell_type": "code",
   "execution_count": 45,
   "metadata": {},
   "outputs": [
    {
     "data": {
      "text/plain": [
       "SVC()"
      ]
     },
     "execution_count": 45,
     "metadata": {},
     "output_type": "execute_result"
    }
   ],
   "source": [
    "SVM_scaled.fit(x_train_svm,y_train)"
   ]
  },
  {
   "cell_type": "code",
   "execution_count": 46,
   "metadata": {},
   "outputs": [],
   "source": [
    "y_SVM_train_scaled = SVM.predict(x_train_svm)\n",
    "y_SVM_test_scaled = SVM.predict(x_test_svm)"
   ]
  },
  {
   "cell_type": "code",
   "execution_count": 47,
   "metadata": {},
   "outputs": [],
   "source": [
    "accuracy_SVM_train_scaled = accuracy_score(y_train,y_SVM_train)\n",
    "precision_SVM_train_scaled= precision_score(y_train,y_SVM_train)\n",
    "recall_SVM_train_scaled = recall_score(y_train,y_SVM_train)\n",
    "f1_SVM_train_scaled= f1_score(y_train,y_SVM_train)\n",
    "\n",
    "accuracy_SVM_test_scaled = accuracy_score(y_test,y_SVM_test)\n",
    "precision_SVM_test_scaled= precision_score(y_test,y_SVM_test)\n",
    "recall_SVM_test_scaled = recall_score(y_test,y_SVM_test)\n",
    "f1_SVM_test_scaled = f1_score(y_test,y_SVM_test)"
   ]
  },
  {
   "cell_type": "code",
   "execution_count": 48,
   "metadata": {},
   "outputs": [
    {
     "name": "stdout",
     "output_type": "stream",
     "text": [
      "EVALUATION MATRIX SVM Scaled:\n",
      "Accuracy =  0.5846623776828674  VS  0.4449533204157125\n",
      "Precision =  0.5573164482834346  VS  0.2270481144343303\n",
      "Recall =  0.8232145753365411  VS  0.8298479087452472\n",
      "F1_Score =  0.664658766014099  VS  0.3565448233612416\n"
     ]
    }
   ],
   "source": [
    "print(\"EVALUATION MATRIX SVM Scaled:\")\n",
    "print(\"Accuracy = \",accuracy_SVM_train_scaled,\" VS \",accuracy_SVM_test_scaled)\n",
    "print(\"Precision = \",precision_SVM_train_scaled,\" VS \",precision_SVM_test_scaled)\n",
    "print(\"Recall = \",recall_SVM_train_scaled,\" VS \",recall_SVM_test_scaled)\n",
    "print(\"F1_Score = \",f1_SVM_train_scaled,\" VS \",f1_SVM_test_scaled)"
   ]
  },
  {
   "cell_type": "code",
   "execution_count": 49,
   "metadata": {},
   "outputs": [
    {
     "data": {
      "text/html": [
       "<div>\n",
       "<style scoped>\n",
       "    .dataframe tbody tr th:only-of-type {\n",
       "        vertical-align: middle;\n",
       "    }\n",
       "\n",
       "    .dataframe tbody tr th {\n",
       "        vertical-align: top;\n",
       "    }\n",
       "\n",
       "    .dataframe thead th {\n",
       "        text-align: right;\n",
       "    }\n",
       "</style>\n",
       "<table border=\"1\" class=\"dataframe\">\n",
       "  <thead>\n",
       "    <tr style=\"text-align: right;\">\n",
       "      <th></th>\n",
       "      <th>Pred_1</th>\n",
       "      <th>Pred_0</th>\n",
       "    </tr>\n",
       "  </thead>\n",
       "  <tbody>\n",
       "    <tr>\n",
       "      <th>Aktual_1</th>\n",
       "      <td>1052</td>\n",
       "      <td>0</td>\n",
       "    </tr>\n",
       "    <tr>\n",
       "      <th>Aktual_0</th>\n",
       "      <td>4625</td>\n",
       "      <td>0</td>\n",
       "    </tr>\n",
       "  </tbody>\n",
       "</table>\n",
       "</div>"
      ],
      "text/plain": [
       "          Pred_1  Pred_0\n",
       "Aktual_1    1052       0\n",
       "Aktual_0    4625       0"
      ]
     },
     "execution_count": 49,
     "metadata": {},
     "output_type": "execute_result"
    }
   ],
   "source": [
    "cm_SVM_scaled = confusion_matrix(y_test,y_SVM_test_scaled,labels=[1,0])\n",
    "df_cm_SVM_scaled= pd.DataFrame(data=cm_SVM_scaled,columns=[\"Pred_1\",\"Pred_0\"],index=[\"Aktual_1\",\"Aktual_0\"])\n",
    "df_cm_SVM_scaled"
   ]
  },
  {
   "cell_type": "code",
   "execution_count": 50,
   "metadata": {},
   "outputs": [
    {
     "data": {
      "text/plain": [
       "<matplotlib.axes._subplots.AxesSubplot at 0x1ed27b28910>"
      ]
     },
     "execution_count": 50,
     "metadata": {},
     "output_type": "execute_result"
    },
    {
     "data": {
      "image/png": "[encoded data removed]",
      "text/plain": [
       "<Figure size 432x288 with 2 Axes>"
      ]
     },
     "metadata": {
      "needs_background": "light"
     },
     "output_type": "display_data"
    }
   ],
   "source": [
    "sns.heatmap(df_cm_SVM_scaled,annot=True)"
   ]
  },
  {
   "cell_type": "markdown",
   "metadata": {},
   "source": [
    "## ============== HYPER PARAMETER TUNING =================="
   ]
  },
  {
   "cell_type": "markdown",
   "metadata": {},
   "source": [
    "### SVM TUNED"
   ]
  },
  {
   "cell_type": "code",
   "execution_count": 51,
   "metadata": {},
   "outputs": [],
   "source": [
    "SVM_Tuned = SVC()"
   ]
  },
  {
   "cell_type": "code",
   "execution_count": 52,
   "metadata": {},
   "outputs": [],
   "source": [
    "parameter_SVM = {\n",
    "    \"C\" : [200], #float\n",
    "    \"kernel\" : [\"rbf\"], # linear,poly,rbf,sigmoid,precomputed\n",
    "    \"degree\" : [3], # int (degree of poly)\n",
    "    \"gamma\" : [\"scale\"], #scale , auto\n",
    "    \"coef0\" : [0.1], #float\n",
    "    \"tol\" : [0.001], #float\n",
    "    \"probability\" : [False], #bool\n",
    "    \"cache_size\" : [200],\n",
    "    \"class_weight\": [\"balanced\"], #\"balanced\"\n",
    "    \"max_iter\" : [2], # int, -1 ==> no limit\n",
    "    \"decision_function_shape\" : [\"ovr\"] # ovo/ovr\n",
    "}"
   ]
  },
  {
   "cell_type": "code",
   "execution_count": 53,
   "metadata": {},
   "outputs": [],
   "source": [
    "model_SVM_Tuned = GridSearchCV(estimator = SVM_Tuned,\n",
    "                       param_grid= parameter_SVM,\n",
    "                       cv = 5,\n",
    "                       n_jobs = -1,\n",
    "                       verbose=1)"
   ]
  },
  {
   "cell_type": "code",
   "execution_count": 54,
   "metadata": {},
   "outputs": [
    {
     "name": "stdout",
     "output_type": "stream",
     "text": [
      "Fitting 5 folds for each of 1 candidates, totalling 5 fits\n"
     ]
    },
    {
     "name": "stderr",
     "output_type": "stream",
     "text": [
      "[Parallel(n_jobs=-1)]: Using backend LokyBackend with 8 concurrent workers.\n",
      "[Parallel(n_jobs=-1)]: Done   2 out of   5 | elapsed:    3.2s remaining:    4.8s\n",
      "[Parallel(n_jobs=-1)]: Done   5 out of   5 | elapsed:    3.2s finished\n"
     ]
    },
    {
     "data": {
      "text/plain": [
       "GridSearchCV(cv=5, estimator=SVC(), n_jobs=-1,\n",
       "             param_grid={'C': [200], 'cache_size': [200],\n",
       "                         'class_weight': ['balanced'], 'coef0': [0.1],\n",
       "                         'decision_function_shape': ['ovr'], 'degree': [3],\n",
       "                         'gamma': ['scale'], 'kernel': ['rbf'], 'max_iter': [2],\n",
       "                         'probability': [False], 'tol': [0.001]},\n",
       "             verbose=1)"
      ]
     },
     "execution_count": 54,
     "metadata": {},
     "output_type": "execute_result"
    }
   ],
   "source": [
    "model_SVM_Tuned.fit(x_train,y_train)"
   ]
  },
  {
   "cell_type": "code",
   "execution_count": 55,
   "metadata": {},
   "outputs": [
    {
     "data": {
      "text/plain": [
       "SVC(C=200, class_weight='balanced', coef0=0.1, max_iter=2)"
      ]
     },
     "execution_count": 55,
     "metadata": {},
     "output_type": "execute_result"
    }
   ],
   "source": [
    "model_SVM_Tuned.best_estimator_"
   ]
  },
  {
   "cell_type": "code",
   "execution_count": 56,
   "metadata": {},
   "outputs": [],
   "source": [
    "SVM_Tuned = model_SVM_Tuned.best_estimator_"
   ]
  },
  {
   "cell_type": "code",
   "execution_count": 57,
   "metadata": {},
   "outputs": [],
   "source": [
    "y_SVM_Tuned_train = SVM_Tuned.predict(x_train)\n",
    "y_SVM_Tuned_test = SVM_Tuned.predict(x_test)"
   ]
  },
  {
   "cell_type": "code",
   "execution_count": 58,
   "metadata": {},
   "outputs": [],
   "source": [
    "accuracy_SVM_Tuned_train = accuracy_score(y_train,y_SVM_Tuned_train)\n",
    "precision_SVM_Tuned_train= precision_score(y_train,y_SVM_Tuned_train)\n",
    "recall_SVM_Tuned_train = recall_score(y_train,y_SVM_Tuned_train)\n",
    "f1_SVM_Tuned_train = f1_score(y_train,y_SVM_Tuned_train)\n",
    "\n",
    "accuracy_SVM_Tuned_test = accuracy_score(y_test,y_SVM_Tuned_test)\n",
    "precision_SVM_Tuned_test= precision_score(y_test,y_SVM_Tuned_test)\n",
    "recall_SVM_Tuned_test = recall_score(y_test,y_SVM_Tuned_test)\n",
    "f1_SVM_Tuned_test = f1_score(y_test,y_SVM_Tuned_test)"
   ]
  },
  {
   "cell_type": "code",
   "execution_count": 59,
   "metadata": {},
   "outputs": [
    {
     "name": "stdout",
     "output_type": "stream",
     "text": [
      "EVALUATION MATRIX LOGREG TUNED:\n",
      "Accuracy =  0.498269989728064  VS  0.1890082790206095\n",
      "Precision =  0.4991284453644188  VS  0.18532955350815025\n",
      "Recall =  0.990755257609342  VS  0.9942965779467681\n",
      "F1_Score =  0.6638291706663286  VS  0.31242532855436084\n"
     ]
    }
   ],
   "source": [
    "print(\"EVALUATION MATRIX LOGREG TUNED:\")\n",
    "print(\"Accuracy = \",accuracy_SVM_Tuned_train,\" VS \",accuracy_SVM_Tuned_test)\n",
    "print(\"Precision = \",precision_SVM_Tuned_train,\" VS \",precision_SVM_Tuned_test)\n",
    "print(\"Recall = \",recall_SVM_Tuned_train,\" VS \",recall_SVM_Tuned_test)\n",
    "print(\"F1_Score = \",f1_SVM_Tuned_train,\" VS \",f1_SVM_Tuned_test)"
   ]
  },
  {
   "cell_type": "code",
   "execution_count": 60,
   "metadata": {},
   "outputs": [
    {
     "data": {
      "text/html": [
       "<div>\n",
       "<style scoped>\n",
       "    .dataframe tbody tr th:only-of-type {\n",
       "        vertical-align: middle;\n",
       "    }\n",
       "\n",
       "    .dataframe tbody tr th {\n",
       "        vertical-align: top;\n",
       "    }\n",
       "\n",
       "    .dataframe thead th {\n",
       "        text-align: right;\n",
       "    }\n",
       "</style>\n",
       "<table border=\"1\" class=\"dataframe\">\n",
       "  <thead>\n",
       "    <tr style=\"text-align: right;\">\n",
       "      <th></th>\n",
       "      <th>Pred_1</th>\n",
       "      <th>Pred_0</th>\n",
       "    </tr>\n",
       "  </thead>\n",
       "  <tbody>\n",
       "    <tr>\n",
       "      <th>Aktual_1</th>\n",
       "      <td>1046</td>\n",
       "      <td>6</td>\n",
       "    </tr>\n",
       "    <tr>\n",
       "      <th>Aktual_0</th>\n",
       "      <td>4598</td>\n",
       "      <td>27</td>\n",
       "    </tr>\n",
       "  </tbody>\n",
       "</table>\n",
       "</div>"
      ],
      "text/plain": [
       "          Pred_1  Pred_0\n",
       "Aktual_1    1046       6\n",
       "Aktual_0    4598      27"
      ]
     },
     "execution_count": 60,
     "metadata": {},
     "output_type": "execute_result"
    }
   ],
   "source": [
    "cm_SVM_Tuned = confusion_matrix(y_test,y_SVM_Tuned_test,labels=[1,0])\n",
    "df_cm_SVM_Tuned = pd.DataFrame(data=cm_SVM_Tuned,columns=[\"Pred_1\",\"Pred_0\"],index=[\"Aktual_1\",\"Aktual_0\"])\n",
    "df_cm_SVM_Tuned"
   ]
  },
  {
   "cell_type": "code",
   "execution_count": 61,
   "metadata": {},
   "outputs": [
    {
     "data": {
      "text/plain": [
       "<matplotlib.axes._subplots.AxesSubplot at 0x1ed27c27340>"
      ]
     },
     "execution_count": 61,
     "metadata": {},
     "output_type": "execute_result"
    },
    {
     "data": {
      "image/png": "[encoded data removed]",
      "text/plain": [
       "<Figure size 432x288 with 2 Axes>"
      ]
     },
     "metadata": {
      "needs_background": "light"
     },
     "output_type": "display_data"
    }
   ],
   "source": [
    "sns.heatmap(df_cm_SVM_Tuned,annot=True)"
   ]
  },
  {
   "cell_type": "markdown",
   "metadata": {},
   "source": [
    "### LOGREG TUNED"
   ]
  },
  {
   "cell_type": "code",
   "execution_count": 62,
   "metadata": {},
   "outputs": [],
   "source": [
    "LR_Tuned = LogisticRegression()"
   ]
  },
  {
   "cell_type": "code",
   "execution_count": 63,
   "metadata": {},
   "outputs": [],
   "source": [
    "parameter_LR ={\n",
    "    \"penalty\" : [\"l2\"],\n",
    "    \"tol\" : [5],\n",
    "    \"C\" : [1],\n",
    "    \"solver\" : ['lbfgs'],\n",
    "    \"max_iter\" : [5],\n",
    "    \"class_weight\" : [\"balanced\"],\n",
    "}"
   ]
  },
  {
   "cell_type": "code",
   "execution_count": 64,
   "metadata": {},
   "outputs": [],
   "source": [
    "model_LR_Tuned = GridSearchCV(estimator = LR_Tuned,\n",
    "                       param_grid= parameter_LR,\n",
    "                       cv = 5,\n",
    "                       n_jobs = -1,\n",
    "                       verbose=1)"
   ]
  },
  {
   "cell_type": "code",
   "execution_count": 65,
   "metadata": {},
   "outputs": [
    {
     "name": "stdout",
     "output_type": "stream",
     "text": [
      "Fitting 5 folds for each of 1 candidates, totalling 5 fits\n"
     ]
    },
    {
     "name": "stderr",
     "output_type": "stream",
     "text": [
      "[Parallel(n_jobs=-1)]: Using backend LokyBackend with 8 concurrent workers.\n",
      "[Parallel(n_jobs=-1)]: Done   2 out of   5 | elapsed:    0.4s remaining:    0.6s\n",
      "[Parallel(n_jobs=-1)]: Done   5 out of   5 | elapsed:    1.1s finished\n"
     ]
    },
    {
     "data": {
      "text/plain": [
       "GridSearchCV(cv=5, estimator=LogisticRegression(), n_jobs=-1,\n",
       "             param_grid={'C': [1], 'class_weight': ['balanced'],\n",
       "                         'max_iter': [5], 'penalty': ['l2'],\n",
       "                         'solver': ['lbfgs'], 'tol': [5]},\n",
       "             verbose=1)"
      ]
     },
     "execution_count": 65,
     "metadata": {},
     "output_type": "execute_result"
    }
   ],
   "source": [
    "model_LR_Tuned.fit(x_train_scaled,y_train)"
   ]
  },
  {
   "cell_type": "code",
   "execution_count": 66,
   "metadata": {},
   "outputs": [
    {
     "data": {
      "text/plain": [
       "LogisticRegression(C=1, class_weight='balanced', max_iter=5, tol=5)"
      ]
     },
     "execution_count": 66,
     "metadata": {},
     "output_type": "execute_result"
    }
   ],
   "source": [
    "model_LR_Tuned.best_estimator_"
   ]
  },
  {
   "cell_type": "code",
   "execution_count": 67,
   "metadata": {},
   "outputs": [],
   "source": [
    "LR_Tuned = model_LR_Tuned.best_estimator_"
   ]
  },
  {
   "cell_type": "code",
   "execution_count": 68,
   "metadata": {},
   "outputs": [],
   "source": [
    "y_LR_Tuned_train = LR_Tuned.predict(x_train_scaled)\n",
    "y_LR_Tuned_test = LR_Tuned.predict(x_test_scaled)"
   ]
  },
  {
   "cell_type": "code",
   "execution_count": 69,
   "metadata": {},
   "outputs": [],
   "source": [
    "accuracy_LR_Tuned_train = accuracy_score(y_train,y_LR_Tuned_train)\n",
    "precision_LR_Tuned_train= precision_score(y_train,y_LR_Tuned_train)\n",
    "recall_LR_Tuned_train = recall_score(y_train,y_LR_Tuned_train)\n",
    "f1_LR_Tuned_train = f1_score(y_train,y_LR_Tuned_train)\n",
    "\n",
    "accuracy_LR_Tuned_test = accuracy_score(y_test,y_LR_Tuned_test)\n",
    "precision_LR_Tuned_test= precision_score(y_test,y_LR_Tuned_test)\n",
    "recall_LR_Tuned_test = recall_score(y_test,y_LR_Tuned_test)\n",
    "f1_LR_Tuned_test = f1_score(y_test,y_LR_Tuned_test)"
   ]
  },
  {
   "cell_type": "code",
   "execution_count": 70,
   "metadata": {},
   "outputs": [
    {
     "name": "stdout",
     "output_type": "stream",
     "text": [
      "EVALUATION MATRIX LOGREG TUNED:\n",
      "Accuracy =  0.7030869870789858  VS  0.31178439316540424\n",
      "Precision =  0.8286239174175488  VS  0.19530416221985059\n",
      "Recall =  0.512083040493053  VS  0.8697718631178707\n",
      "F1_Score =  0.6329858326650628  VS  0.3189820463656964\n"
     ]
    }
   ],
   "source": [
    "print(\"EVALUATION MATRIX LOGREG TUNED:\")\n",
    "print(\"Accuracy = \",accuracy_LR_Tuned_train,\" VS \",accuracy_LR_Tuned_test)\n",
    "print(\"Precision = \",precision_LR_Tuned_train,\" VS \",precision_LR_Tuned_test)\n",
    "print(\"Recall = \",recall_LR_Tuned_train,\" VS \",recall_LR_Tuned_test)\n",
    "print(\"F1_Score = \",f1_LR_Tuned_train,\" VS \",f1_LR_Tuned_test)"
   ]
  },
  {
   "cell_type": "code",
   "execution_count": 71,
   "metadata": {},
   "outputs": [
    {
     "data": {
      "text/html": [
       "<div>\n",
       "<style scoped>\n",
       "    .dataframe tbody tr th:only-of-type {\n",
       "        vertical-align: middle;\n",
       "    }\n",
       "\n",
       "    .dataframe tbody tr th {\n",
       "        vertical-align: top;\n",
       "    }\n",
       "\n",
       "    .dataframe thead th {\n",
       "        text-align: right;\n",
       "    }\n",
       "</style>\n",
       "<table border=\"1\" class=\"dataframe\">\n",
       "  <thead>\n",
       "    <tr style=\"text-align: right;\">\n",
       "      <th></th>\n",
       "      <th>Pred_1</th>\n",
       "      <th>Pred_0</th>\n",
       "    </tr>\n",
       "  </thead>\n",
       "  <tbody>\n",
       "    <tr>\n",
       "      <th>Aktual_1</th>\n",
       "      <td>915</td>\n",
       "      <td>137</td>\n",
       "    </tr>\n",
       "    <tr>\n",
       "      <th>Aktual_0</th>\n",
       "      <td>3770</td>\n",
       "      <td>855</td>\n",
       "    </tr>\n",
       "  </tbody>\n",
       "</table>\n",
       "</div>"
      ],
      "text/plain": [
       "          Pred_1  Pred_0\n",
       "Aktual_1     915     137\n",
       "Aktual_0    3770     855"
      ]
     },
     "execution_count": 71,
     "metadata": {},
     "output_type": "execute_result"
    }
   ],
   "source": [
    "cm_LR_Tuned = confusion_matrix(y_test,y_LR_Tuned_test,labels=[1,0])\n",
    "df_cm_LR_Tuned = pd.DataFrame(data=cm_LR_Tuned,columns=[\"Pred_1\",\"Pred_0\"],index=[\"Aktual_1\",\"Aktual_0\"])\n",
    "df_cm_LR_Tuned"
   ]
  },
  {
   "cell_type": "code",
   "execution_count": 72,
   "metadata": {},
   "outputs": [
    {
     "data": {
      "text/plain": [
       "<matplotlib.axes._subplots.AxesSubplot at 0x1ed27befc10>"
      ]
     },
     "execution_count": 72,
     "metadata": {},
     "output_type": "execute_result"
    },
    {
     "data": {
      "image/png": "[encoded data removed]",
      "text/plain": [
       "<Figure size 432x288 with 2 Axes>"
      ]
     },
     "metadata": {
      "needs_background": "light"
     },
     "output_type": "display_data"
    }
   ],
   "source": [
    "sns.heatmap(df_cm_LR_Tuned,annot=True)"
   ]
  },
  {
   "cell_type": "markdown",
   "metadata": {},
   "source": [
    "### RANDOM FOREST TUNED"
   ]
  },
  {
   "cell_type": "code",
   "execution_count": 73,
   "metadata": {},
   "outputs": [],
   "source": [
    "RF_Tuned = RandomForestClassifier()"
   ]
  },
  {
   "cell_type": "code",
   "execution_count": 74,
   "metadata": {},
   "outputs": [],
   "source": [
    "parameter_RF ={\n",
    "    \"n_estimators\" : [2000],\n",
    "    \"max_depth\" : [2000],\n",
    "    \"min_samples_split\" : [5000],\n",
    "    \"min_samples_leaf\" : [2000],\n",
    "    \"max_features\" : [\"auto\"]\n",
    "}"
   ]
  },
  {
   "cell_type": "code",
   "execution_count": 75,
   "metadata": {},
   "outputs": [],
   "source": [
    "model_RF_Tuned = GridSearchCV(estimator = RF_Tuned,\n",
    "                       param_grid= parameter_RF,\n",
    "                       cv = 5,\n",
    "                       n_jobs = -1,\n",
    "                       verbose=1)"
   ]
  },
  {
   "cell_type": "code",
   "execution_count": 76,
   "metadata": {},
   "outputs": [
    {
     "name": "stdout",
     "output_type": "stream",
     "text": [
      "Fitting 5 folds for each of 1 candidates, totalling 5 fits\n"
     ]
    },
    {
     "name": "stderr",
     "output_type": "stream",
     "text": [
      "[Parallel(n_jobs=-1)]: Using backend LokyBackend with 8 concurrent workers.\n",
      "[Parallel(n_jobs=-1)]: Done   2 out of   5 | elapsed:   32.4s remaining:   48.7s\n",
      "[Parallel(n_jobs=-1)]: Done   5 out of   5 | elapsed:   32.8s finished\n"
     ]
    },
    {
     "data": {
      "text/plain": [
       "GridSearchCV(cv=5, estimator=RandomForestClassifier(), n_jobs=-1,\n",
       "             param_grid={'max_depth': [2000], 'max_features': ['auto'],\n",
       "                         'min_samples_leaf': [2000],\n",
       "                         'min_samples_split': [5000], 'n_estimators': [2000]},\n",
       "             verbose=1)"
      ]
     },
     "execution_count": 76,
     "metadata": {},
     "output_type": "execute_result"
    }
   ],
   "source": [
    "model_RF_Tuned.fit(x_train,y_train)"
   ]
  },
  {
   "cell_type": "code",
   "execution_count": 77,
   "metadata": {},
   "outputs": [
    {
     "data": {
      "text/plain": [
       "RandomForestClassifier(max_depth=2000, min_samples_leaf=2000,\n",
       "                       min_samples_split=5000, n_estimators=2000)"
      ]
     },
     "execution_count": 77,
     "metadata": {},
     "output_type": "execute_result"
    }
   ],
   "source": [
    "model_RF_Tuned.best_estimator_"
   ]
  },
  {
   "cell_type": "code",
   "execution_count": 78,
   "metadata": {},
   "outputs": [],
   "source": [
    "RF_Tuned = model_RF_Tuned.best_estimator_"
   ]
  },
  {
   "cell_type": "code",
   "execution_count": 79,
   "metadata": {},
   "outputs": [],
   "source": [
    "y_RF_Tuned_train = RF_Tuned.predict(x_train)\n",
    "y_RF_Tuned_test = RF_Tuned.predict(x_test)"
   ]
  },
  {
   "cell_type": "code",
   "execution_count": 80,
   "metadata": {},
   "outputs": [],
   "source": [
    "accuracy_RF_Tuned_train = accuracy_score(y_train,y_RF_Tuned_train)\n",
    "precision_RF_Tuned_train= precision_score(y_train,y_RF_Tuned_train)\n",
    "recall_RF_Tuned_train = recall_score(y_train,y_RF_Tuned_train)\n",
    "f1_RF_Tuned_train = f1_score(y_train,y_RF_Tuned_train)\n",
    "\n",
    "accuracy_RF_Tuned_test = accuracy_score(y_test,y_RF_Tuned_test)\n",
    "precision_RF_Tuned_test= precision_score(y_test,y_RF_Tuned_test)\n",
    "recall_RF_Tuned_test = recall_score(y_test,y_RF_Tuned_test)\n",
    "f1_RF_Tuned_test = f1_score(y_test,y_RF_Tuned_test)"
   ]
  },
  {
   "cell_type": "code",
   "execution_count": 81,
   "metadata": {},
   "outputs": [
    {
     "name": "stdout",
     "output_type": "stream",
     "text": [
      "EVALUATION MATRIX RANDOM FOREST TUNED:\n",
      "Accuracy =  0.7888306211818132  VS  0.838999471551876\n",
      "Precision =  0.8905621755976314  VS  0.5823389021479713\n",
      "Recall =  0.6585932853976321  VS  0.46387832699619774\n",
      "F1_Score =  0.7572103431128792  VS  0.5164021164021164\n"
     ]
    }
   ],
   "source": [
    "print(\"EVALUATION MATRIX RANDOM FOREST TUNED:\")\n",
    "print(\"Accuracy = \",accuracy_RF_Tuned_train,\" VS \",accuracy_RF_Tuned_test)\n",
    "print(\"Precision = \",precision_RF_Tuned_train,\" VS \",precision_RF_Tuned_test)\n",
    "print(\"Recall = \",recall_RF_Tuned_train,\" VS \",recall_RF_Tuned_test)\n",
    "print(\"F1_Score = \",f1_RF_Tuned_train,\" VS \",f1_RF_Tuned_test)"
   ]
  },
  {
   "cell_type": "code",
   "execution_count": 82,
   "metadata": {},
   "outputs": [
    {
     "data": {
      "text/html": [
       "<div>\n",
       "<style scoped>\n",
       "    .dataframe tbody tr th:only-of-type {\n",
       "        vertical-align: middle;\n",
       "    }\n",
       "\n",
       "    .dataframe tbody tr th {\n",
       "        vertical-align: top;\n",
       "    }\n",
       "\n",
       "    .dataframe thead th {\n",
       "        text-align: right;\n",
       "    }\n",
       "</style>\n",
       "<table border=\"1\" class=\"dataframe\">\n",
       "  <thead>\n",
       "    <tr style=\"text-align: right;\">\n",
       "      <th></th>\n",
       "      <th>Pred_1</th>\n",
       "      <th>Pred_0</th>\n",
       "    </tr>\n",
       "  </thead>\n",
       "  <tbody>\n",
       "    <tr>\n",
       "      <th>Aktual_1</th>\n",
       "      <td>488</td>\n",
       "      <td>564</td>\n",
       "    </tr>\n",
       "    <tr>\n",
       "      <th>Aktual_0</th>\n",
       "      <td>350</td>\n",
       "      <td>4275</td>\n",
       "    </tr>\n",
       "  </tbody>\n",
       "</table>\n",
       "</div>"
      ],
      "text/plain": [
       "          Pred_1  Pred_0\n",
       "Aktual_1     488     564\n",
       "Aktual_0     350    4275"
      ]
     },
     "execution_count": 82,
     "metadata": {},
     "output_type": "execute_result"
    }
   ],
   "source": [
    "cm_RF_Tuned = confusion_matrix(y_test,y_RF_Tuned_test,labels=[1,0])\n",
    "df_cm_RF_Tuned = pd.DataFrame(data=cm_RF_Tuned,columns=[\"Pred_1\",\"Pred_0\"],index=[\"Aktual_1\",\"Aktual_0\"])\n",
    "df_cm_RF_Tuned"
   ]
  },
  {
   "cell_type": "code",
   "execution_count": 83,
   "metadata": {},
   "outputs": [
    {
     "data": {
      "text/plain": [
       "<matplotlib.axes._subplots.AxesSubplot at 0x1ed27a785b0>"
      ]
     },
     "execution_count": 83,
     "metadata": {},
     "output_type": "execute_result"
    },
    {
     "data": {
      "image/png": "[encoded data removed]",
      "text/plain": [
       "<Figure size 432x288 with 2 Axes>"
      ]
     },
     "metadata": {
      "needs_background": "light"
     },
     "output_type": "display_data"
    }
   ],
   "source": [
    "sns.heatmap(df_cm_RF_Tuned,annot=True)"
   ]
  },
  {
   "cell_type": "markdown",
   "metadata": {},
   "source": [
    "### XGBOOST TUNED"
   ]
  },
  {
   "cell_type": "code",
   "execution_count": 84,
   "metadata": {},
   "outputs": [],
   "source": [
    "XGB_Tuned = XGBClassifier()"
   ]
  },
  {
   "cell_type": "code",
   "execution_count": 85,
   "metadata": {},
   "outputs": [],
   "source": [
    "parameter_XGB = {\n",
    "    \"n_estimators\" : [15],\n",
    "    \"max_depth\" : [1],\n",
    "    \"max_delta_step\" : [500],\n",
    "    \"learning_rate\" : [0.31],\n",
    "    \"gamma\" : [1000],\n",
    "    \"colsample_bytree\" : [1],\n",
    "    \"colsample_bynode\" : [1],\n",
    "    \"colsample_bylevel\" : [1],\n",
    "    \"subsample\" : [0.13335],\n",
    "    \"reg_alpha\" :[0], \n",
    "    \"reg_lambda\" : [1],\n",
    "    \"num_parallel_tree\" : [200],\n",
    "    \"scale_pos_weight\" : [1],\n",
    "    \"min_child_weight\" : [1],\n",
    "    \"validate_parameters\" : [1]\n",
    "}"
   ]
  },
  {
   "cell_type": "code",
   "execution_count": 86,
   "metadata": {},
   "outputs": [],
   "source": [
    "model_XGB_Tuned = GridSearchCV(estimator = XGB_Tuned,\n",
    "                       param_grid= parameter_XGB,\n",
    "                       cv = 5,\n",
    "                       n_jobs = -1,\n",
    "                       verbose=1)"
   ]
  },
  {
   "cell_type": "code",
   "execution_count": 87,
   "metadata": {},
   "outputs": [
    {
     "name": "stdout",
     "output_type": "stream",
     "text": [
      "Fitting 5 folds for each of 1 candidates, totalling 5 fits\n"
     ]
    },
    {
     "name": "stderr",
     "output_type": "stream",
     "text": [
      "[Parallel(n_jobs=-1)]: Using backend LokyBackend with 8 concurrent workers.\n",
      "[Parallel(n_jobs=-1)]: Done   2 out of   5 | elapsed:   26.1s remaining:   39.2s\n",
      "[Parallel(n_jobs=-1)]: Done   5 out of   5 | elapsed:   26.1s finished\n"
     ]
    },
    {
     "data": {
      "text/plain": [
       "GridSearchCV(cv=5,\n",
       "             estimator=XGBClassifier(base_score=None, booster=None,\n",
       "                                     colsample_bylevel=None,\n",
       "                                     colsample_bynode=None,\n",
       "                                     colsample_bytree=None, gamma=None,\n",
       "                                     gpu_id=None, importance_type='gain',\n",
       "                                     interaction_constraints=None,\n",
       "                                     learning_rate=None, max_delta_step=None,\n",
       "                                     max_depth=None, min_child_weight=None,\n",
       "                                     missing=nan, monotone_constraints=None,\n",
       "                                     n_estimators=100, n_jobs...\n",
       "             n_jobs=-1,\n",
       "             param_grid={'colsample_bylevel': [1], 'colsample_bynode': [1],\n",
       "                         'colsample_bytree': [1], 'gamma': [1000],\n",
       "                         'learning_rate': [0.31], 'max_delta_step': [500],\n",
       "                         'max_depth': [1], 'min_child_weight': [1],\n",
       "                         'n_estimators': [15], 'num_parallel_tree': [200],\n",
       "                         'reg_alpha': [0], 'reg_lambda': [1],\n",
       "                         'scale_pos_weight': [1], 'subsample': [0.13335],\n",
       "                         'validate_parameters': [1]},\n",
       "             verbose=1)"
      ]
     },
     "execution_count": 87,
     "metadata": {},
     "output_type": "execute_result"
    }
   ],
   "source": [
    "model_XGB_Tuned.fit(x_train,y_train)"
   ]
  },
  {
   "cell_type": "code",
   "execution_count": 88,
   "metadata": {},
   "outputs": [
    {
     "data": {
      "text/plain": [
       "XGBClassifier(base_score=0.5, booster='gbtree', colsample_bylevel=1,\n",
       "              colsample_bynode=1, colsample_bytree=1, gamma=1000, gpu_id=-1,\n",
       "              importance_type='gain', interaction_constraints='',\n",
       "              learning_rate=0.31, max_delta_step=500, max_depth=1,\n",
       "              min_child_weight=1, missing=nan, monotone_constraints='()',\n",
       "              n_estimators=15, n_jobs=0, num_parallel_tree=200, random_state=0,\n",
       "              reg_alpha=0, reg_lambda=1, scale_pos_weight=1, subsample=0.13335,\n",
       "              tree_method='exact', validate_parameters=1, verbosity=None)"
      ]
     },
     "execution_count": 88,
     "metadata": {},
     "output_type": "execute_result"
    }
   ],
   "source": [
    "model_XGB_Tuned.best_estimator_"
   ]
  },
  {
   "cell_type": "code",
   "execution_count": 89,
   "metadata": {},
   "outputs": [],
   "source": [
    "XGB_Tuned = model_XGB_Tuned.best_estimator_"
   ]
  },
  {
   "cell_type": "code",
   "execution_count": 90,
   "metadata": {},
   "outputs": [],
   "source": [
    "y_XGB_Tuned_train = XGB_Tuned.predict(x_train)\n",
    "y_XGB_Tuned_test = XGB_Tuned.predict(x_test)"
   ]
  },
  {
   "cell_type": "code",
   "execution_count": 91,
   "metadata": {},
   "outputs": [],
   "source": [
    "accuracy_XGB_Tuned_train = accuracy_score(y_train,y_XGB_Tuned_train)\n",
    "precision_XGB_Tuned_train= precision_score(y_train,y_XGB_Tuned_train)\n",
    "recall_XGB_Tuned_train = recall_score(y_train,y_XGB_Tuned_train)\n",
    "f1_XGB_Tuned_train = f1_score(y_train,y_RF_Tuned_train)\n",
    "\n",
    "accuracy_XGB_Tuned_test = accuracy_score(y_test,y_XGB_Tuned_test)\n",
    "precision_XGB_Tuned_test= precision_score(y_test,y_XGB_Tuned_test)\n",
    "recall_XGB_Tuned_test = recall_score(y_test,y_XGB_Tuned_test)\n",
    "f1_XGB_Tuned_test = f1_score(y_test,y_XGB_Tuned_test)"
   ]
  },
  {
   "cell_type": "code",
   "execution_count": 92,
   "metadata": {},
   "outputs": [
    {
     "name": "stdout",
     "output_type": "stream",
     "text": [
      "EVALUATION MATRIX EXTREME GRADIENT BOOSTING TUNED:\n",
      "Accuracy =  0.6937070876358329  VS  0.8354764840584816\n",
      "Precision =  0.8430677901187285  VS  0.5667420814479638\n",
      "Recall =  0.4760231388873871  VS  0.4762357414448669\n",
      "F1_Score =  0.7572103431128792  VS  0.5175619834710744\n"
     ]
    }
   ],
   "source": [
    "print(\"EVALUATION MATRIX EXTREME GRADIENT BOOSTING TUNED:\")\n",
    "print(\"Accuracy = \",accuracy_XGB_Tuned_train,\" VS \",accuracy_XGB_Tuned_test)\n",
    "print(\"Precision = \",precision_XGB_Tuned_train,\" VS \",precision_XGB_Tuned_test)\n",
    "print(\"Recall = \",recall_XGB_Tuned_train,\" VS \",recall_XGB_Tuned_test)\n",
    "print(\"F1_Score = \",f1_XGB_Tuned_train,\" VS \",f1_XGB_Tuned_test)"
   ]
  },
  {
   "cell_type": "code",
   "execution_count": 93,
   "metadata": {
    "scrolled": true
   },
   "outputs": [
    {
     "data": {
      "text/html": [
       "<div>\n",
       "<style scoped>\n",
       "    .dataframe tbody tr th:only-of-type {\n",
       "        vertical-align: middle;\n",
       "    }\n",
       "\n",
       "    .dataframe tbody tr th {\n",
       "        vertical-align: top;\n",
       "    }\n",
       "\n",
       "    .dataframe thead th {\n",
       "        text-align: right;\n",
       "    }\n",
       "</style>\n",
       "<table border=\"1\" class=\"dataframe\">\n",
       "  <thead>\n",
       "    <tr style=\"text-align: right;\">\n",
       "      <th></th>\n",
       "      <th>Pred_1</th>\n",
       "      <th>Pred_0</th>\n",
       "    </tr>\n",
       "  </thead>\n",
       "  <tbody>\n",
       "    <tr>\n",
       "      <th>Aktual_1</th>\n",
       "      <td>501</td>\n",
       "      <td>551</td>\n",
       "    </tr>\n",
       "    <tr>\n",
       "      <th>Aktual_0</th>\n",
       "      <td>383</td>\n",
       "      <td>4242</td>\n",
       "    </tr>\n",
       "  </tbody>\n",
       "</table>\n",
       "</div>"
      ],
      "text/plain": [
       "          Pred_1  Pred_0\n",
       "Aktual_1     501     551\n",
       "Aktual_0     383    4242"
      ]
     },
     "execution_count": 93,
     "metadata": {},
     "output_type": "execute_result"
    }
   ],
   "source": [
    "cm_XGB_Tuned = confusion_matrix(y_test,y_XGB_Tuned_test,labels=[1,0])\n",
    "df_cm_XGB_Tuned = pd.DataFrame(data=cm_XGB_Tuned,columns=[\"Pred_1\",\"Pred_0\"],index=[\"Aktual_1\",\"Aktual_0\"])\n",
    "df_cm_XGB_Tuned"
   ]
  },
  {
   "cell_type": "code",
   "execution_count": 94,
   "metadata": {},
   "outputs": [
    {
     "data": {
      "text/plain": [
       "<matplotlib.axes._subplots.AxesSubplot at 0x1ed1f407640>"
      ]
     },
     "execution_count": 94,
     "metadata": {},
     "output_type": "execute_result"
    },
    {
     "data": {
      "image/png": "[encoded data removed]",
      "text/plain": [
       "<Figure size 432x288 with 2 Axes>"
      ]
     },
     "metadata": {
      "needs_background": "light"
     },
     "output_type": "display_data"
    }
   ],
   "source": [
    "sns.heatmap(df_cm_XGB_Tuned,annot=True)"
   ]
  },
  {
   "cell_type": "code",
   "execution_count": 95,
   "metadata": {},
   "outputs": [
    {
     "data": {
      "text/html": [
       "<div>\n",
       "<style scoped>\n",
       "    .dataframe tbody tr th:only-of-type {\n",
       "        vertical-align: middle;\n",
       "    }\n",
       "\n",
       "    .dataframe tbody tr th {\n",
       "        vertical-align: top;\n",
       "    }\n",
       "\n",
       "    .dataframe thead th {\n",
       "        text-align: right;\n",
       "    }\n",
       "</style>\n",
       "<table border=\"1\" class=\"dataframe\">\n",
       "  <thead>\n",
       "    <tr style=\"text-align: right;\">\n",
       "      <th></th>\n",
       "      <th>Recall Score</th>\n",
       "      <th>F1 Score</th>\n",
       "    </tr>\n",
       "  </thead>\n",
       "  <tbody>\n",
       "    <tr>\n",
       "      <th>LOGREG</th>\n",
       "      <td>0.315589</td>\n",
       "      <td>0.375141</td>\n",
       "    </tr>\n",
       "    <tr>\n",
       "      <th>LOGREG_SCALED</th>\n",
       "      <td>0.984791</td>\n",
       "      <td>0.314846</td>\n",
       "    </tr>\n",
       "    <tr>\n",
       "      <th>Random_Forest</th>\n",
       "      <td>0.421103</td>\n",
       "      <td>0.465092</td>\n",
       "    </tr>\n",
       "    <tr>\n",
       "      <th>XGBoost</th>\n",
       "      <td>0.428707</td>\n",
       "      <td>0.483387</td>\n",
       "    </tr>\n",
       "    <tr>\n",
       "      <th>SVM</th>\n",
       "      <td>0.829848</td>\n",
       "      <td>0.356545</td>\n",
       "    </tr>\n",
       "    <tr>\n",
       "      <th>SVM_SCALED</th>\n",
       "      <td>0.829848</td>\n",
       "      <td>0.356545</td>\n",
       "    </tr>\n",
       "    <tr>\n",
       "      <th>SVM_Tuned</th>\n",
       "      <td>0.994297</td>\n",
       "      <td>0.312425</td>\n",
       "    </tr>\n",
       "    <tr>\n",
       "      <th>LOGREG_Tuned</th>\n",
       "      <td>0.869772</td>\n",
       "      <td>0.318982</td>\n",
       "    </tr>\n",
       "    <tr>\n",
       "      <th>Random_Forest_Tuned</th>\n",
       "      <td>0.463878</td>\n",
       "      <td>0.516402</td>\n",
       "    </tr>\n",
       "    <tr>\n",
       "      <th>XGBoost_Tuned</th>\n",
       "      <td>0.476236</td>\n",
       "      <td>0.517562</td>\n",
       "    </tr>\n",
       "  </tbody>\n",
       "</table>\n",
       "</div>"
      ],
      "text/plain": [
       "                     Recall Score  F1 Score\n",
       "LOGREG                   0.315589  0.375141\n",
       "LOGREG_SCALED            0.984791  0.314846\n",
       "Random_Forest            0.421103  0.465092\n",
       "XGBoost                  0.428707  0.483387\n",
       "SVM                      0.829848  0.356545\n",
       "SVM_SCALED               0.829848  0.356545\n",
       "SVM_Tuned                0.994297  0.312425\n",
       "LOGREG_Tuned             0.869772  0.318982\n",
       "Random_Forest_Tuned      0.463878  0.516402\n",
       "XGBoost_Tuned            0.476236  0.517562"
      ]
     },
     "execution_count": 95,
     "metadata": {},
     "output_type": "execute_result"
    }
   ],
   "source": [
    "data= {\n",
    "    \"LOGREG\" : [recall_LR_test,f1_LR_test],\n",
    "    \"LOGREG_SCALED\" : [recall_LR_test_scaled,f1_LR_test_scaled],\n",
    "    \"Random_Forest\" : [recall_RF_test,f1_RF_test],\n",
    "    \"XGBoost\" : [recall_XGB_test,f1_XGB_test],\n",
    "    \"SVM\" : [recall_SVM_test,f1_SVM_test],\n",
    "    \"SVM_SCALED\" : [recall_SVM_test_scaled,f1_SVM_test_scaled],\n",
    "    \"SVM_Tuned\" : [recall_SVM_Tuned_test,f1_SVM_Tuned_test],\n",
    "    \"LOGREG_Tuned\" : [recall_LR_Tuned_test,f1_LR_Tuned_test],\n",
    "    \"Random_Forest_Tuned\" : [recall_RF_Tuned_test,f1_RF_Tuned_test],\n",
    "    \"XGBoost_Tuned\" : [recall_XGB_Tuned_test,f1_XGB_Tuned_test]\n",
    "}\n",
    "pd.DataFrame(data=data, index=['Recall Score',\"F1 Score\"]).T"
   ]
  },
  {
   "cell_type": "markdown",
   "metadata": {},
   "source": [
    "    MOdel terbaik adalah SVM_Tuned, karena memiliki nilai recall paling tinggi, dan model tidak underfitting maupun overfitting, merupakan pilihan terbaik, karena semua model yang dicoba masih overfitting dan underfitting lumayan tinggi. Selain itu yang menjadi pertimbangan adalah nilai False Negative, karena tujuannya adalah mengurangi jumlah tebakan salag yang dilakukan oleh model (nasabah yang aktualnya akan churn(1) tapi model memprediksi nasabah tersebut non-churn(0)). "
   ]
  },
  {
   "cell_type": "markdown",
   "metadata": {},
   "source": [
    "# KESIMPULAN DAN SARAN\n",
    "\n",
    "## KESIMPULAN\n",
    "    1. Feature yang memiliki pengaruh dan perlu menjadi perhatian lebih karena dari historical data, memiliki kencenderungan untuk berpindah bank tinggi :\n",
    "        - Age , Usia kategori dewasa (20-60) tahun, memiliki kecenderungan tinggi dibanding yang lainnya\n",
    "        - Gender , Male memiliki kecenderungan lebih tinggi untuk berpindah bank\n",
    "        - Dependets , nasabah yang belum memiliki tanggungan cenderung lebih tinggi kemungkinannya untuk churn.\n",
    "        - Occupation, apabila nasabah memperolah penghasilan dari kategori (self_employed) kemungkinannya untuk berpindah lebih besar.\n",
    "        - customer_nw_category, nasabah yang memiliki kekayaan dengan tingkat sedang(1) memiliki kecenderungam lebih tinggi untuk berpindah bank.\n",
    "        - current_balance, previous_month_balance, average_monthly_balance_prevq2,current_month_credit, previous_month_credit, current_month_debit, previous_month_debit, current_month_balance, semua pada feature ini, kategori \"rendah\" cenderung untuk berpindah bank.\n",
    "        - average_monthly_balance_prevq, kategori \"cukup_rendah\" memiliki kecenderungan paling tinggi untuk berpindah bank dibanding kategori lain.\n",
    "        - previous_month_balance, kategori \"tinggi\" memiliki kecenderungan paling tinggi untuk pindah bank.\n",
    "       \n",
    "    2. Model terbaik adalah SUPPORT VECTOR MACHINE dengan nilai recall terbaik dan memiliki False Negative paling sedikit.\n",
    "    \n",
    "\n",
    "\n",
    "## SARAN\n",
    "\n",
    "    1. Kemungkinan besar untuk mengurangi jumlah nasabah yang akan keluar adalah dengan meningkatkan servis, meningkatkan mutu produk dan mungkin promo menarik yang dapat ditawarkan kepada pelanggan. TERUTAMA nasabah dengan beberapa feature berikut yang memiliki kecenderungan lebih tingii untuk berpindah bank :\n",
    "        - Nasabah berusia 20-60 tahun,\n",
    "        - Nasabah Pria,\n",
    "        - Nasabah yang belum memiliki tanggungan/hidup untuk dirinya sendiri,\n",
    "        - Nasabah yang masih self_employed,\n",
    "        - Nasabah yang memiliki tingkat kekayaan menengah,\n",
    "        - Nasabah yang memiliki tingkat current_balance, previous_month_balance, average_monthly_balance_prevq2,current_month_credit, previous_month_credit, current_month_debit, previous_month_debit, current_month_balance \"rendah\",\n",
    "        - Nasabah yang memiliki tingkat average_monthly_balance_prevq \"tinggi\", dan\n",
    "        - Nasabah dengan tingkat previous_month_balance \"tinggi\".\n",
    "        \n",
    "    2. Mungkin bisa di improve lebih lagi mengenai confusion matrix model terbaik (SVM_Tuned), memang sudah memenuhi goals karena memiliki nilai recall yang bagus (tidak overfitting maupun underfitting) dan memiliki nilai False negative (sangat kecil) jadi bisa mengurangi jumlah pengeluaran untuk mencari nasabah baru, karena model dapat memprediksi nasabah yang akan keluar, sehingga dapat dilakukan antisipasi, mungkin berupa penawaran/promo menarik, atau service lebih ditingkatkan.\n",
    "  \n",
    "    "
   ]
  },
  {
   "cell_type": "markdown",
   "metadata": {},
   "source": [
    "# IMPORT MODEL"
   ]
  },
  {
   "cell_type": "code",
   "execution_count": 96,
   "metadata": {},
   "outputs": [
    {
     "data": {
      "text/plain": [
       "['Churn_pred']"
      ]
     },
     "execution_count": 96,
     "metadata": {},
     "output_type": "execute_result"
    }
   ],
   "source": [
    "joblib.dump(SVM_Tuned,\"Churn_pred\")"
   ]
  },
  {
   "cell_type": "code",
   "execution_count": 97,
   "metadata": {},
   "outputs": [
    {
     "data": {
      "text/html": [
       "<div>\n",
       "<style scoped>\n",
       "    .dataframe tbody tr th:only-of-type {\n",
       "        vertical-align: middle;\n",
       "    }\n",
       "\n",
       "    .dataframe tbody tr th {\n",
       "        vertical-align: top;\n",
       "    }\n",
       "\n",
       "    .dataframe thead th {\n",
       "        text-align: right;\n",
       "    }\n",
       "</style>\n",
       "<table border=\"1\" class=\"dataframe\">\n",
       "  <thead>\n",
       "    <tr style=\"text-align: right;\">\n",
       "      <th></th>\n",
       "      <th>age</th>\n",
       "      <th>dependents</th>\n",
       "      <th>occupation</th>\n",
       "      <th>customer_nw_category</th>\n",
       "      <th>current_balance</th>\n",
       "      <th>current_month_credit</th>\n",
       "      <th>previous_month_credit</th>\n",
       "      <th>churn</th>\n",
       "      <th>gender_Female</th>\n",
       "      <th>gender_Male</th>\n",
       "    </tr>\n",
       "  </thead>\n",
       "  <tbody>\n",
       "    <tr>\n",
       "      <th>0</th>\n",
       "      <td>66</td>\n",
       "      <td>0</td>\n",
       "      <td>2</td>\n",
       "      <td>1</td>\n",
       "      <td>1458.71</td>\n",
       "      <td>0.20</td>\n",
       "      <td>0.20</td>\n",
       "      <td>0</td>\n",
       "      <td>0</td>\n",
       "      <td>1</td>\n",
       "    </tr>\n",
       "    <tr>\n",
       "      <th>1</th>\n",
       "      <td>35</td>\n",
       "      <td>0</td>\n",
       "      <td>2</td>\n",
       "      <td>1</td>\n",
       "      <td>5390.37</td>\n",
       "      <td>0.56</td>\n",
       "      <td>0.56</td>\n",
       "      <td>0</td>\n",
       "      <td>0</td>\n",
       "      <td>1</td>\n",
       "    </tr>\n",
       "    <tr>\n",
       "      <th>2</th>\n",
       "      <td>31</td>\n",
       "      <td>0</td>\n",
       "      <td>1</td>\n",
       "      <td>1</td>\n",
       "      <td>3913.16</td>\n",
       "      <td>0.61</td>\n",
       "      <td>0.61</td>\n",
       "      <td>0</td>\n",
       "      <td>0</td>\n",
       "      <td>1</td>\n",
       "    </tr>\n",
       "    <tr>\n",
       "      <th>3</th>\n",
       "      <td>90</td>\n",
       "      <td>0</td>\n",
       "      <td>2</td>\n",
       "      <td>1</td>\n",
       "      <td>2291.91</td>\n",
       "      <td>0.47</td>\n",
       "      <td>0.47</td>\n",
       "      <td>1</td>\n",
       "      <td>0</td>\n",
       "      <td>1</td>\n",
       "    </tr>\n",
       "    <tr>\n",
       "      <th>4</th>\n",
       "      <td>42</td>\n",
       "      <td>1</td>\n",
       "      <td>2</td>\n",
       "      <td>0</td>\n",
       "      <td>927.72</td>\n",
       "      <td>0.33</td>\n",
       "      <td>714.61</td>\n",
       "      <td>1</td>\n",
       "      <td>0</td>\n",
       "      <td>1</td>\n",
       "    </tr>\n",
       "  </tbody>\n",
       "</table>\n",
       "</div>"
      ],
      "text/plain": [
       "   age  dependents  occupation  customer_nw_category  current_balance  \\\n",
       "0   66           0           2                     1          1458.71   \n",
       "1   35           0           2                     1          5390.37   \n",
       "2   31           0           1                     1          3913.16   \n",
       "3   90           0           2                     1          2291.91   \n",
       "4   42           1           2                     0           927.72   \n",
       "\n",
       "   current_month_credit  previous_month_credit  churn  gender_Female  \\\n",
       "0                  0.20                   0.20      0              0   \n",
       "1                  0.56                   0.56      0              0   \n",
       "2                  0.61                   0.61      0              0   \n",
       "3                  0.47                   0.47      1              0   \n",
       "4                  0.33                 714.61      1              0   \n",
       "\n",
       "   gender_Male  \n",
       "0            1  \n",
       "1            1  \n",
       "2            1  \n",
       "3            1  \n",
       "4            1  "
      ]
     },
     "execution_count": 97,
     "metadata": {},
     "output_type": "execute_result"
    }
   ],
   "source": [
    "df.head()"
   ]
  },
  {
   "cell_type": "code",
   "execution_count": 107,
   "metadata": {},
   "outputs": [
    {
     "ename": "ValueError",
     "evalue": "X.shape[1] = 8 should be equal to 9, the number of features at training time",
     "output_type": "error",
     "traceback": [
      "\u001b[1;31m---------------------------------------------------------------------------\u001b[0m",
      "\u001b[1;31mValueError\u001b[0m                                Traceback (most recent call last)",
      "\u001b[1;32m<ipython-input-107-22c1eb98588f>\u001b[0m in \u001b[0;36m<module>\u001b[1;34m\u001b[0m\n\u001b[1;32m----> 1\u001b[1;33m \u001b[0mSVM_Tuned\u001b[0m\u001b[1;33m.\u001b[0m\u001b[0mpredict\u001b[0m\u001b[1;33m(\u001b[0m\u001b[1;33m[\u001b[0m\u001b[1;33m[\u001b[0m\u001b[1;36m66\u001b[0m\u001b[1;33m,\u001b[0m\u001b[1;36m2\u001b[0m\u001b[1;33m,\u001b[0m\u001b[1;36m1\u001b[0m\u001b[1;33m,\u001b[0m\u001b[1;36m1458.71\u001b[0m\u001b[1;33m,\u001b[0m\u001b[1;36m0.20\u001b[0m\u001b[1;33m,\u001b[0m\u001b[1;36m0.20\u001b[0m\u001b[1;33m,\u001b[0m\u001b[1;36m0\u001b[0m\u001b[1;33m,\u001b[0m\u001b[1;36m1\u001b[0m\u001b[1;33m]\u001b[0m\u001b[1;33m]\u001b[0m\u001b[1;33m)\u001b[0m\u001b[1;33m\u001b[0m\u001b[1;33m\u001b[0m\u001b[0m\n\u001b[0m",
      "\u001b[1;32m~\\anaconda3\\lib\\site-packages\\sklearn\\svm\\_base.py\u001b[0m in \u001b[0;36mpredict\u001b[1;34m(self, X)\u001b[0m\n\u001b[0;32m    613\u001b[0m             \u001b[0my\u001b[0m \u001b[1;33m=\u001b[0m \u001b[0mnp\u001b[0m\u001b[1;33m.\u001b[0m\u001b[0margmax\u001b[0m\u001b[1;33m(\u001b[0m\u001b[0mself\u001b[0m\u001b[1;33m.\u001b[0m\u001b[0mdecision_function\u001b[0m\u001b[1;33m(\u001b[0m\u001b[0mX\u001b[0m\u001b[1;33m)\u001b[0m\u001b[1;33m,\u001b[0m \u001b[0maxis\u001b[0m\u001b[1;33m=\u001b[0m\u001b[1;36m1\u001b[0m\u001b[1;33m)\u001b[0m\u001b[1;33m\u001b[0m\u001b[1;33m\u001b[0m\u001b[0m\n\u001b[0;32m    614\u001b[0m         \u001b[1;32melse\u001b[0m\u001b[1;33m:\u001b[0m\u001b[1;33m\u001b[0m\u001b[1;33m\u001b[0m\u001b[0m\n\u001b[1;32m--> 615\u001b[1;33m             \u001b[0my\u001b[0m \u001b[1;33m=\u001b[0m \u001b[0msuper\u001b[0m\u001b[1;33m(\u001b[0m\u001b[1;33m)\u001b[0m\u001b[1;33m.\u001b[0m\u001b[0mpredict\u001b[0m\u001b[1;33m(\u001b[0m\u001b[0mX\u001b[0m\u001b[1;33m)\u001b[0m\u001b[1;33m\u001b[0m\u001b[1;33m\u001b[0m\u001b[0m\n\u001b[0m\u001b[0;32m    616\u001b[0m         \u001b[1;32mreturn\u001b[0m \u001b[0mself\u001b[0m\u001b[1;33m.\u001b[0m\u001b[0mclasses_\u001b[0m\u001b[1;33m.\u001b[0m\u001b[0mtake\u001b[0m\u001b[1;33m(\u001b[0m\u001b[0mnp\u001b[0m\u001b[1;33m.\u001b[0m\u001b[0masarray\u001b[0m\u001b[1;33m(\u001b[0m\u001b[0my\u001b[0m\u001b[1;33m,\u001b[0m \u001b[0mdtype\u001b[0m\u001b[1;33m=\u001b[0m\u001b[0mnp\u001b[0m\u001b[1;33m.\u001b[0m\u001b[0mintp\u001b[0m\u001b[1;33m)\u001b[0m\u001b[1;33m)\u001b[0m\u001b[1;33m\u001b[0m\u001b[1;33m\u001b[0m\u001b[0m\n\u001b[0;32m    617\u001b[0m \u001b[1;33m\u001b[0m\u001b[0m\n",
      "\u001b[1;32m~\\anaconda3\\lib\\site-packages\\sklearn\\svm\\_base.py\u001b[0m in \u001b[0;36mpredict\u001b[1;34m(self, X)\u001b[0m\n\u001b[0;32m    331\u001b[0m         \u001b[0my_pred\u001b[0m \u001b[1;33m:\u001b[0m \u001b[0mndarray\u001b[0m \u001b[0mof\u001b[0m \u001b[0mshape\u001b[0m \u001b[1;33m(\u001b[0m\u001b[0mn_samples\u001b[0m\u001b[1;33m,\u001b[0m\u001b[1;33m)\u001b[0m\u001b[1;33m\u001b[0m\u001b[1;33m\u001b[0m\u001b[0m\n\u001b[0;32m    332\u001b[0m         \"\"\"\n\u001b[1;32m--> 333\u001b[1;33m         \u001b[0mX\u001b[0m \u001b[1;33m=\u001b[0m \u001b[0mself\u001b[0m\u001b[1;33m.\u001b[0m\u001b[0m_validate_for_predict\u001b[0m\u001b[1;33m(\u001b[0m\u001b[0mX\u001b[0m\u001b[1;33m)\u001b[0m\u001b[1;33m\u001b[0m\u001b[1;33m\u001b[0m\u001b[0m\n\u001b[0m\u001b[0;32m    334\u001b[0m         \u001b[0mpredict\u001b[0m \u001b[1;33m=\u001b[0m \u001b[0mself\u001b[0m\u001b[1;33m.\u001b[0m\u001b[0m_sparse_predict\u001b[0m \u001b[1;32mif\u001b[0m \u001b[0mself\u001b[0m\u001b[1;33m.\u001b[0m\u001b[0m_sparse\u001b[0m \u001b[1;32melse\u001b[0m \u001b[0mself\u001b[0m\u001b[1;33m.\u001b[0m\u001b[0m_dense_predict\u001b[0m\u001b[1;33m\u001b[0m\u001b[1;33m\u001b[0m\u001b[0m\n\u001b[0;32m    335\u001b[0m         \u001b[1;32mreturn\u001b[0m \u001b[0mpredict\u001b[0m\u001b[1;33m(\u001b[0m\u001b[0mX\u001b[0m\u001b[1;33m)\u001b[0m\u001b[1;33m\u001b[0m\u001b[1;33m\u001b[0m\u001b[0m\n",
      "\u001b[1;32m~\\anaconda3\\lib\\site-packages\\sklearn\\svm\\_base.py\u001b[0m in \u001b[0;36m_validate_for_predict\u001b[1;34m(self, X)\u001b[0m\n\u001b[0;32m    482\u001b[0m                                  (X.shape[1], self.shape_fit_[0]))\n\u001b[0;32m    483\u001b[0m         \u001b[1;32melif\u001b[0m \u001b[1;32mnot\u001b[0m \u001b[0mcallable\u001b[0m\u001b[1;33m(\u001b[0m\u001b[0mself\u001b[0m\u001b[1;33m.\u001b[0m\u001b[0mkernel\u001b[0m\u001b[1;33m)\u001b[0m \u001b[1;32mand\u001b[0m \u001b[0mX\u001b[0m\u001b[1;33m.\u001b[0m\u001b[0mshape\u001b[0m\u001b[1;33m[\u001b[0m\u001b[1;36m1\u001b[0m\u001b[1;33m]\u001b[0m \u001b[1;33m!=\u001b[0m \u001b[0mself\u001b[0m\u001b[1;33m.\u001b[0m\u001b[0mshape_fit_\u001b[0m\u001b[1;33m[\u001b[0m\u001b[1;36m1\u001b[0m\u001b[1;33m]\u001b[0m\u001b[1;33m:\u001b[0m\u001b[1;33m\u001b[0m\u001b[1;33m\u001b[0m\u001b[0m\n\u001b[1;32m--> 484\u001b[1;33m             raise ValueError(\"X.shape[1] = %d should be equal to %d, \"\n\u001b[0m\u001b[0;32m    485\u001b[0m                              \u001b[1;34m\"the number of features at training time\"\u001b[0m \u001b[1;33m%\u001b[0m\u001b[1;33m\u001b[0m\u001b[1;33m\u001b[0m\u001b[0m\n\u001b[0;32m    486\u001b[0m                              (X.shape[1], self.shape_fit_[1]))\n",
      "\u001b[1;31mValueError\u001b[0m: X.shape[1] = 8 should be equal to 9, the number of features at training time"
     ]
    }
   ],
   "source": [
    "SVM_Tuned.predict([[66,2,1,1458.71,0.20,0.20,0,1]])"
   ]
  }
 ],
 "metadata": {
  "kernelspec": {
   "display_name": "Python 3",
   "language": "python",
   "name": "python3"
  },
  "language_info": {
   "codemirror_mode": {
    "name": "ipython",
    "version": 3
   },
   "file_extension": ".py",
   "mimetype": "text/x-python",
   "name": "python",
   "nbconvert_exporter": "python",
   "pygments_lexer": "ipython3",
   "version": "3.8.3"
  }
 },
 "nbformat": 4,
 "nbformat_minor": 4
}
