{
 "cells": [
  {
   "cell_type": "code",
   "execution_count": 1,
   "metadata": {},
   "outputs": [],
   "source": [
    "import pandas as pd\n",
    "import numpy as np\n",
    "import matplotlib.pyplot as plt\n",
    "import seaborn as sns\n",
    "import joblib\n",
    "import warnings\n",
    "import imblearn\n",
    "warnings.filterwarnings('ignore')\n",
    "\n",
    "%matplotlib inline\n",
    "\n",
    "from imblearn.over_sampling import SMOTE\n",
    "from sklearn.model_selection import train_test_split,GridSearchCV,RandomizedSearchCV\n",
    "from sklearn.preprocessing import StandardScaler,MinMaxScaler,RobustScaler\n",
    "from sklearn.metrics import classification_report,confusion_matrix,recall_score,precision_score,accuracy_score,f1_score\n",
    "from sklearn.linear_model import LogisticRegression\n",
    "from sklearn.neighbors import KNeighborsClassifier\n",
    "from sklearn.ensemble import RandomForestClassifier\n",
    "from sklearn.svm import SVC\n",
    "from xgboost import XGBClassifier\n",
    "from sklearn.utils import resample"
   ]
  },
  {
   "cell_type": "code",
   "execution_count": 2,
   "metadata": {},
   "outputs": [
    {
     "data": {
      "text/html": [
       "<div>\n",
       "<style scoped>\n",
       "    .dataframe tbody tr th:only-of-type {\n",
       "        vertical-align: middle;\n",
       "    }\n",
       "\n",
       "    .dataframe tbody tr th {\n",
       "        vertical-align: top;\n",
       "    }\n",
       "\n",
       "    .dataframe thead th {\n",
       "        text-align: right;\n",
       "    }\n",
       "</style>\n",
       "<table border=\"1\" class=\"dataframe\">\n",
       "  <thead>\n",
       "    <tr style=\"text-align: right;\">\n",
       "      <th></th>\n",
       "      <th>age</th>\n",
       "      <th>dependents</th>\n",
       "      <th>occupation</th>\n",
       "      <th>customer_nw_category</th>\n",
       "      <th>current_balance</th>\n",
       "      <th>current_month_credit</th>\n",
       "      <th>previous_month_credit</th>\n",
       "      <th>churn</th>\n",
       "      <th>gender_Female</th>\n",
       "      <th>gender_Male</th>\n",
       "    </tr>\n",
       "  </thead>\n",
       "  <tbody>\n",
       "    <tr>\n",
       "      <th>0</th>\n",
       "      <td>66</td>\n",
       "      <td>0</td>\n",
       "      <td>2</td>\n",
       "      <td>1</td>\n",
       "      <td>1458.71</td>\n",
       "      <td>0.20</td>\n",
       "      <td>0.20</td>\n",
       "      <td>0</td>\n",
       "      <td>0</td>\n",
       "      <td>1</td>\n",
       "    </tr>\n",
       "    <tr>\n",
       "      <th>1</th>\n",
       "      <td>35</td>\n",
       "      <td>0</td>\n",
       "      <td>2</td>\n",
       "      <td>1</td>\n",
       "      <td>5390.37</td>\n",
       "      <td>0.56</td>\n",
       "      <td>0.56</td>\n",
       "      <td>0</td>\n",
       "      <td>0</td>\n",
       "      <td>1</td>\n",
       "    </tr>\n",
       "    <tr>\n",
       "      <th>2</th>\n",
       "      <td>31</td>\n",
       "      <td>0</td>\n",
       "      <td>1</td>\n",
       "      <td>1</td>\n",
       "      <td>3913.16</td>\n",
       "      <td>0.61</td>\n",
       "      <td>0.61</td>\n",
       "      <td>0</td>\n",
       "      <td>0</td>\n",
       "      <td>1</td>\n",
       "    </tr>\n",
       "    <tr>\n",
       "      <th>3</th>\n",
       "      <td>90</td>\n",
       "      <td>0</td>\n",
       "      <td>2</td>\n",
       "      <td>1</td>\n",
       "      <td>2291.91</td>\n",
       "      <td>0.47</td>\n",
       "      <td>0.47</td>\n",
       "      <td>1</td>\n",
       "      <td>0</td>\n",
       "      <td>1</td>\n",
       "    </tr>\n",
       "    <tr>\n",
       "      <th>4</th>\n",
       "      <td>42</td>\n",
       "      <td>1</td>\n",
       "      <td>2</td>\n",
       "      <td>0</td>\n",
       "      <td>927.72</td>\n",
       "      <td>0.33</td>\n",
       "      <td>714.61</td>\n",
       "      <td>1</td>\n",
       "      <td>0</td>\n",
       "      <td>1</td>\n",
       "    </tr>\n",
       "  </tbody>\n",
       "</table>\n",
       "</div>"
      ],
      "text/plain": [
       "   age  dependents  occupation  customer_nw_category  current_balance  \\\n",
       "0   66           0           2                     1          1458.71   \n",
       "1   35           0           2                     1          5390.37   \n",
       "2   31           0           1                     1          3913.16   \n",
       "3   90           0           2                     1          2291.91   \n",
       "4   42           1           2                     0           927.72   \n",
       "\n",
       "   current_month_credit  previous_month_credit  churn  gender_Female  \\\n",
       "0                  0.20                   0.20      0              0   \n",
       "1                  0.56                   0.56      0              0   \n",
       "2                  0.61                   0.61      0              0   \n",
       "3                  0.47                   0.47      1              0   \n",
       "4                  0.33                 714.61      1              0   \n",
       "\n",
       "   gender_Male  \n",
       "0            1  \n",
       "1            1  \n",
       "2            1  \n",
       "3            1  \n",
       "4            1  "
      ]
     },
     "execution_count": 2,
     "metadata": {},
     "output_type": "execute_result"
    }
   ],
   "source": [
    "df = pd.read_csv(\"./Datasets/df_ohgender.csv\",index_col=\"Unnamed: 0\")\n",
    "df.head()"
   ]
  },
  {
   "cell_type": "code",
   "execution_count": 3,
   "metadata": {},
   "outputs": [
    {
     "data": {
      "text/plain": [
       "0    23122\n",
       "1     5260\n",
       "Name: churn, dtype: int64"
      ]
     },
     "execution_count": 3,
     "metadata": {},
     "output_type": "execute_result"
    }
   ],
   "source": [
    "df[\"churn\"].value_counts()"
   ]
  },
  {
   "cell_type": "code",
   "execution_count": 4,
   "metadata": {},
   "outputs": [
    {
     "data": {
      "text/html": [
       "<div>\n",
       "<style scoped>\n",
       "    .dataframe tbody tr th:only-of-type {\n",
       "        vertical-align: middle;\n",
       "    }\n",
       "\n",
       "    .dataframe tbody tr th {\n",
       "        vertical-align: top;\n",
       "    }\n",
       "\n",
       "    .dataframe thead th {\n",
       "        text-align: right;\n",
       "    }\n",
       "</style>\n",
       "<table border=\"1\" class=\"dataframe\">\n",
       "  <thead>\n",
       "    <tr style=\"text-align: right;\">\n",
       "      <th>col_0</th>\n",
       "      <th>%</th>\n",
       "    </tr>\n",
       "    <tr>\n",
       "      <th>churn</th>\n",
       "      <th></th>\n",
       "    </tr>\n",
       "  </thead>\n",
       "  <tbody>\n",
       "    <tr>\n",
       "      <th>0</th>\n",
       "      <td>0.814671</td>\n",
       "    </tr>\n",
       "    <tr>\n",
       "      <th>1</th>\n",
       "      <td>0.185329</td>\n",
       "    </tr>\n",
       "  </tbody>\n",
       "</table>\n",
       "</div>"
      ],
      "text/plain": [
       "col_0         %\n",
       "churn          \n",
       "0      0.814671\n",
       "1      0.185329"
      ]
     },
     "execution_count": 4,
     "metadata": {},
     "output_type": "execute_result"
    }
   ],
   "source": [
    "pd.crosstab(index=df[\"churn\"],columns=\"%\",normalize=True)"
   ]
  },
  {
   "cell_type": "code",
   "execution_count": 5,
   "metadata": {},
   "outputs": [
    {
     "data": {
      "text/plain": [
       "((22705, 9), (5677, 9), (22705,), (5677,))"
      ]
     },
     "execution_count": 5,
     "metadata": {},
     "output_type": "execute_result"
    }
   ],
   "source": [
    "x = df.drop(columns=[\"churn\"])\n",
    "y = df[\"churn\"]\n",
    "\n",
    "x_train,x_test,y_train,y_test = train_test_split(x,y,train_size=0.8,stratify=y,random_state=42)\n",
    "x_train.shape,x_test.shape,y_train.shape,y_test.shape"
   ]
  },
  {
   "cell_type": "code",
   "execution_count": 6,
   "metadata": {},
   "outputs": [],
   "source": [
    "x_train_NH = x_train\n",
    "y_train_NH = y_train"
   ]
  },
  {
   "cell_type": "markdown",
   "metadata": {},
   "source": [
    "## HANDLING IMBALACE DATA --- SMOTE\n",
    "    Salah satu cara yang paling mundah untuk memperbaiki data yang tidak seimbang adalah dengan membuat data tersebut menjadi seimbang adalah Oversampling pada minority kelas atau Undersampling pada majority class. Dengan metode Over/under sampling dengan mudah dapat membaut data-set menjadi seimbang tetapi metode ini mempunyai kelemahan, Ovesampling pada data-set minority akan menuju model yang overfitting, karena Oversampling dilakukan dengan duplikasi data yang sudah mempunyai nilai yang sudah kecil, Undersampling pada majority juga dapat mengakibat data yang penting pembeda dua kelas menjadi diluar dari data-set.\n",
    "<br>\n",
    "\n",
    "    Metode Synthetic Minority Over-samplingTechnique (SMOTE) merupakan metode yang populer diterapkan dalam rangka menangani ketidak seimbangan kelas. Teknik ini mensintesis sampel baru dari kelas minoritas untuk menyeimbangkan dataset dengan cara membuat instance baru dari minority class dengan pembentukan convex kombanasi dari instances yang saling berdekatan. Dengan metode ini dapat membuat data-set menjadi seimbang tanpa terlalu overfit, yaitu dengan membuat sample synthetic daripada dengan melakukan duplicate sample."
   ]
  },
  {
   "cell_type": "code",
   "execution_count": 7,
   "metadata": {},
   "outputs": [
    {
     "data": {
      "text/plain": [
       "((36994, 9), (36994,))"
      ]
     },
     "execution_count": 7,
     "metadata": {},
     "output_type": "execute_result"
    }
   ],
   "source": [
    "sm = SMOTE(random_state=42)\n",
    "x_train,y_train = sm.fit_sample(x_train,y_train)\n",
    "x_train.shape,y_train.shape"
   ]
  },
  {
   "cell_type": "markdown",
   "metadata": {},
   "source": [
    "## BASE MODEL UNTUK MACHINE LEARNING :\n",
    "    1. Logistic Regression\n",
    "    2. Random Forest\n",
    "    3. Support Vector Machine"
   ]
  },
  {
   "cell_type": "markdown",
   "metadata": {},
   "source": [
    "## LOGISTIC REGRESSION"
   ]
  },
  {
   "cell_type": "code",
   "execution_count": 8,
   "metadata": {},
   "outputs": [],
   "source": [
    "LR = LogisticRegression()"
   ]
  },
  {
   "cell_type": "code",
   "execution_count": 9,
   "metadata": {},
   "outputs": [
    {
     "data": {
      "text/plain": [
       "LogisticRegression()"
      ]
     },
     "execution_count": 9,
     "metadata": {},
     "output_type": "execute_result"
    }
   ],
   "source": [
    "LR.fit(x_train,y_train)"
   ]
  },
  {
   "cell_type": "code",
   "execution_count": 10,
   "metadata": {},
   "outputs": [],
   "source": [
    "y_LR_train = LR.predict(x_train)\n",
    "y_LR_test = LR.predict(x_test)"
   ]
  },
  {
   "cell_type": "code",
   "execution_count": 11,
   "metadata": {},
   "outputs": [],
   "source": [
    "accuracy_LR_train = accuracy_score(y_train,y_LR_train)\n",
    "precision_LR_train = precision_score(y_train,y_LR_train)\n",
    "recall_LR_train = recall_score(y_train,y_LR_train)\n",
    "f1_LR_train = f1_score(y_train,y_LR_train)\n",
    "\n",
    "accuracy_LR_test = accuracy_score(y_test,y_LR_test)\n",
    "precision_LR_test = precision_score(y_test,y_LR_test)\n",
    "recall_LR_test = recall_score(y_test,y_LR_test)\n",
    "f1_LR_test = f1_score(y_test,y_LR_test)"
   ]
  },
  {
   "cell_type": "code",
   "execution_count": 12,
   "metadata": {},
   "outputs": [
    {
     "name": "stdout",
     "output_type": "stream",
     "text": [
      "EVALUATION MATRIX LOGISTIC REGRESSION :\n",
      "Accuracy =  0.5998810617938044  VS  0.8051787916152897\n",
      "Precision =  0.762317194377396  VS  0.4623955431754875\n",
      "Recall =  0.2902632859382603  VS  0.3155893536121673\n",
      "F1_Score =  0.4204385277995302  VS  0.37514124293785306\n"
     ]
    }
   ],
   "source": [
    "print(\"EVALUATION MATRIX LOGISTIC REGRESSION :\")\n",
    "print(\"Accuracy = \",accuracy_LR_train,\" VS \",accuracy_LR_test)\n",
    "print(\"Precision = \",precision_LR_train,\" VS \",precision_LR_test)\n",
    "print(\"Recall = \",recall_LR_train,\" VS \",recall_LR_test)\n",
    "print(\"F1_Score = \",f1_LR_train,\" VS \",f1_LR_test)"
   ]
  },
  {
   "cell_type": "code",
   "execution_count": 13,
   "metadata": {},
   "outputs": [
    {
     "data": {
      "text/html": [
       "<div>\n",
       "<style scoped>\n",
       "    .dataframe tbody tr th:only-of-type {\n",
       "        vertical-align: middle;\n",
       "    }\n",
       "\n",
       "    .dataframe tbody tr th {\n",
       "        vertical-align: top;\n",
       "    }\n",
       "\n",
       "    .dataframe thead th {\n",
       "        text-align: right;\n",
       "    }\n",
       "</style>\n",
       "<table border=\"1\" class=\"dataframe\">\n",
       "  <thead>\n",
       "    <tr style=\"text-align: right;\">\n",
       "      <th></th>\n",
       "      <th>Pred_1</th>\n",
       "      <th>Pred_0</th>\n",
       "    </tr>\n",
       "  </thead>\n",
       "  <tbody>\n",
       "    <tr>\n",
       "      <th>Aktual_1</th>\n",
       "      <td>332</td>\n",
       "      <td>720</td>\n",
       "    </tr>\n",
       "    <tr>\n",
       "      <th>Aktual_0</th>\n",
       "      <td>386</td>\n",
       "      <td>4239</td>\n",
       "    </tr>\n",
       "  </tbody>\n",
       "</table>\n",
       "</div>"
      ],
      "text/plain": [
       "          Pred_1  Pred_0\n",
       "Aktual_1     332     720\n",
       "Aktual_0     386    4239"
      ]
     },
     "execution_count": 13,
     "metadata": {},
     "output_type": "execute_result"
    }
   ],
   "source": [
    "cm_LR = confusion_matrix(y_test,y_LR_test,labels=[1,0])\n",
    "df_cm_LR = pd.DataFrame(data=cm_LR,columns=[\"Pred_1\",\"Pred_0\"],index=[\"Aktual_1\",\"Aktual_0\"])\n",
    "df_cm_LR"
   ]
  },
  {
   "cell_type": "code",
   "execution_count": 14,
   "metadata": {},
   "outputs": [
    {
     "data": {
      "text/plain": [
       "<matplotlib.axes._subplots.AxesSubplot at 0x2a2a94b41f0>"
      ]
     },
     "execution_count": 14,
     "metadata": {},
     "output_type": "execute_result"
    },
    {
     "data": {
      "image/png": "[encoded data removed]",
      "text/plain": [
       "<Figure size 432x288 with 2 Axes>"
      ]
     },
     "metadata": {
      "needs_background": "light"
     },
     "output_type": "display_data"
    }
   ],
   "source": [
    "sns.heatmap(df_cm_LR,annot=True)"
   ]
  },
  {
   "cell_type": "markdown",
   "metadata": {},
   "source": [
    "### LOGREG SCALED"
   ]
  },
  {
   "cell_type": "code",
   "execution_count": 15,
   "metadata": {},
   "outputs": [],
   "source": [
    "scaler = StandardScaler()\n",
    "x_train_scaled = scaler.fit_transform(x_train)\n",
    "x_test_scaled = scaler.fit_transform(x_test)"
   ]
  },
  {
   "cell_type": "code",
   "execution_count": 16,
   "metadata": {},
   "outputs": [],
   "source": [
    "LR_Scaled = LogisticRegression()"
   ]
  },
  {
   "cell_type": "code",
   "execution_count": 17,
   "metadata": {},
   "outputs": [
    {
     "data": {
      "text/plain": [
       "LogisticRegression()"
      ]
     },
     "execution_count": 17,
     "metadata": {},
     "output_type": "execute_result"
    }
   ],
   "source": [
    "LR_Scaled.fit(x_train_scaled,y_train)"
   ]
  },
  {
   "cell_type": "code",
   "execution_count": 18,
   "metadata": {},
   "outputs": [],
   "source": [
    "y_LR_train_scaled = LR_Scaled.predict(x_train_scaled)\n",
    "y_LR_test_scaled = LR_Scaled.predict(x_test_scaled)"
   ]
  },
  {
   "cell_type": "code",
   "execution_count": 19,
   "metadata": {},
   "outputs": [],
   "source": [
    "accuracy_LR_train_scaled = accuracy_score(y_train,y_LR_train_scaled)\n",
    "precision_LR_train_scaled = precision_score(y_train,y_LR_train_scaled)\n",
    "recall_LR_train_scaled = recall_score(y_train,y_LR_train_scaled)\n",
    "f1_LR_train_scaled = f1_score(y_train,y_LR_train_scaled)\n",
    "\n",
    "accuracy_LR_test_scaled = accuracy_score(y_test,y_LR_test_scaled)\n",
    "precision_LR_test_scaled = precision_score(y_test,y_LR_test_scaled)\n",
    "recall_LR_test_scaled = recall_score(y_test,y_LR_test_scaled)\n",
    "f1_LR_test_scaled = f1_score(y_test,y_LR_test_scaled)"
   ]
  },
  {
   "cell_type": "code",
   "execution_count": 20,
   "metadata": {},
   "outputs": [
    {
     "name": "stdout",
     "output_type": "stream",
     "text": [
      "EVALUATION MATRIX KNN SCALED :\n",
      "Accuracy =  0.6986268043466508  VS  0.20574246961423287\n",
      "Precision =  0.8443298969072165  VS  0.1873756556339302\n",
      "Recall =  0.4870519543709791  VS  0.9847908745247148\n",
      "F1_Score =  0.6177529399664003  VS  0.3148457681203464\n"
     ]
    }
   ],
   "source": [
    "print(\"EVALUATION MATRIX KNN SCALED :\")\n",
    "print(\"Accuracy = \",accuracy_LR_train_scaled,\" VS \",accuracy_LR_test_scaled)\n",
    "print(\"Precision = \",precision_LR_train_scaled,\" VS \",precision_LR_test_scaled)\n",
    "print(\"Recall = \",recall_LR_train_scaled,\" VS \",recall_LR_test_scaled)\n",
    "print(\"F1_Score = \",f1_LR_train_scaled,\" VS \",f1_LR_test_scaled)"
   ]
  },
  {
   "cell_type": "code",
   "execution_count": 21,
   "metadata": {},
   "outputs": [
    {
     "data": {
      "text/html": [
       "<div>\n",
       "<style scoped>\n",
       "    .dataframe tbody tr th:only-of-type {\n",
       "        vertical-align: middle;\n",
       "    }\n",
       "\n",
       "    .dataframe tbody tr th {\n",
       "        vertical-align: top;\n",
       "    }\n",
       "\n",
       "    .dataframe thead th {\n",
       "        text-align: right;\n",
       "    }\n",
       "</style>\n",
       "<table border=\"1\" class=\"dataframe\">\n",
       "  <thead>\n",
       "    <tr style=\"text-align: right;\">\n",
       "      <th></th>\n",
       "      <th>Pred_1</th>\n",
       "      <th>Pred_0</th>\n",
       "    </tr>\n",
       "  </thead>\n",
       "  <tbody>\n",
       "    <tr>\n",
       "      <th>Aktual_1</th>\n",
       "      <td>1036</td>\n",
       "      <td>16</td>\n",
       "    </tr>\n",
       "    <tr>\n",
       "      <th>Aktual_0</th>\n",
       "      <td>4493</td>\n",
       "      <td>132</td>\n",
       "    </tr>\n",
       "  </tbody>\n",
       "</table>\n",
       "</div>"
      ],
      "text/plain": [
       "          Pred_1  Pred_0\n",
       "Aktual_1    1036      16\n",
       "Aktual_0    4493     132"
      ]
     },
     "execution_count": 21,
     "metadata": {},
     "output_type": "execute_result"
    }
   ],
   "source": [
    "cm_LR_scaled = confusion_matrix(y_test,y_LR_test_scaled,labels=[1,0])\n",
    "df_cm_LR_scaled = pd.DataFrame(data=cm_LR_scaled,columns=[\"Pred_1\",\"Pred_0\"],index=[\"Aktual_1\",\"Aktual_0\"])\n",
    "df_cm_LR_scaled"
   ]
  },
  {
   "cell_type": "code",
   "execution_count": 22,
   "metadata": {},
   "outputs": [
    {
     "data": {
      "text/plain": [
       "<matplotlib.axes._subplots.AxesSubplot at 0x2a2a9019700>"
      ]
     },
     "execution_count": 22,
     "metadata": {},
     "output_type": "execute_result"
    },
    {
     "data": {
      "image/png": "[encoded data removed]",
      "text/plain": [
       "<Figure size 432x288 with 2 Axes>"
      ]
     },
     "metadata": {
      "needs_background": "light"
     },
     "output_type": "display_data"
    }
   ],
   "source": [
    "sns.heatmap(df_cm_LR_scaled,annot=True)"
   ]
  },
  {
   "cell_type": "markdown",
   "metadata": {},
   "source": [
    "### RANDOM FOREST"
   ]
  },
  {
   "cell_type": "code",
   "execution_count": 23,
   "metadata": {},
   "outputs": [],
   "source": [
    "RF = RandomForestClassifier()"
   ]
  },
  {
   "cell_type": "code",
   "execution_count": 24,
   "metadata": {},
   "outputs": [
    {
     "data": {
      "text/plain": [
       "RandomForestClassifier()"
      ]
     },
     "execution_count": 24,
     "metadata": {},
     "output_type": "execute_result"
    }
   ],
   "source": [
    "RF.fit(x_train,y_train)"
   ]
  },
  {
   "cell_type": "code",
   "execution_count": 25,
   "metadata": {},
   "outputs": [],
   "source": [
    "y_RF_train = RF.predict(x_train)\n",
    "y_RF_test = RF.predict(x_test)"
   ]
  },
  {
   "cell_type": "code",
   "execution_count": 26,
   "metadata": {},
   "outputs": [],
   "source": [
    "accuracy_RF_train = accuracy_score(y_train,y_RF_train)\n",
    "precision_RF_train= precision_score(y_train,y_RF_train)\n",
    "recall_RF_train = recall_score(y_train,y_RF_train)\n",
    "f1_RF_train = f1_score(y_train,y_RF_train)\n",
    "\n",
    "accuracy_RF_test = accuracy_score(y_test,y_RF_test)\n",
    "precision_RF_test= precision_score(y_test,y_RF_test)\n",
    "recall_RF_test = recall_score(y_test,y_RF_test)\n",
    "f1_RF_test = f1_score(y_test,y_RF_test)"
   ]
  },
  {
   "cell_type": "code",
   "execution_count": 27,
   "metadata": {},
   "outputs": [
    {
     "name": "stdout",
     "output_type": "stream",
     "text": [
      "EVALUATION MATRIX RANDOM FOREST :\n",
      "Accuracy =  1.0  VS  0.8208560859608949\n",
      "Precision =  1.0  VS  0.5206124852767963\n",
      "Recall =  1.0  VS  0.42015209125475284\n",
      "F1_Score =  1.0  VS  0.4650184113624408\n"
     ]
    }
   ],
   "source": [
    "print(\"EVALUATION MATRIX RANDOM FOREST :\")\n",
    "print(\"Accuracy = \",accuracy_RF_train,\" VS \",accuracy_RF_test)\n",
    "print(\"Precision = \",precision_RF_train,\" VS \",precision_RF_test)\n",
    "print(\"Recall = \",recall_RF_train,\" VS \",recall_RF_test)\n",
    "print(\"F1_Score = \",f1_RF_train,\" VS \",f1_RF_test)"
   ]
  },
  {
   "cell_type": "code",
   "execution_count": 28,
   "metadata": {},
   "outputs": [
    {
     "data": {
      "text/html": [
       "<div>\n",
       "<style scoped>\n",
       "    .dataframe tbody tr th:only-of-type {\n",
       "        vertical-align: middle;\n",
       "    }\n",
       "\n",
       "    .dataframe tbody tr th {\n",
       "        vertical-align: top;\n",
       "    }\n",
       "\n",
       "    .dataframe thead th {\n",
       "        text-align: right;\n",
       "    }\n",
       "</style>\n",
       "<table border=\"1\" class=\"dataframe\">\n",
       "  <thead>\n",
       "    <tr style=\"text-align: right;\">\n",
       "      <th></th>\n",
       "      <th>Pred_1</th>\n",
       "      <th>Pred_0</th>\n",
       "    </tr>\n",
       "  </thead>\n",
       "  <tbody>\n",
       "    <tr>\n",
       "      <th>Aktual_1</th>\n",
       "      <td>442</td>\n",
       "      <td>610</td>\n",
       "    </tr>\n",
       "    <tr>\n",
       "      <th>Aktual_0</th>\n",
       "      <td>407</td>\n",
       "      <td>4218</td>\n",
       "    </tr>\n",
       "  </tbody>\n",
       "</table>\n",
       "</div>"
      ],
      "text/plain": [
       "          Pred_1  Pred_0\n",
       "Aktual_1     442     610\n",
       "Aktual_0     407    4218"
      ]
     },
     "execution_count": 28,
     "metadata": {},
     "output_type": "execute_result"
    }
   ],
   "source": [
    "cm_RF = confusion_matrix(y_test,y_RF_test,labels=[1,0])\n",
    "df_cm_RF = pd.DataFrame(data=cm_RF,columns=[\"Pred_1\",\"Pred_0\"],index=[\"Aktual_1\",\"Aktual_0\"])\n",
    "df_cm_RF"
   ]
  },
  {
   "cell_type": "code",
   "execution_count": 29,
   "metadata": {},
   "outputs": [
    {
     "data": {
      "text/plain": [
       "<matplotlib.axes._subplots.AxesSubplot at 0x2a2a96411c0>"
      ]
     },
     "execution_count": 29,
     "metadata": {},
     "output_type": "execute_result"
    },
    {
     "data": {
      "image/png": "[encoded data removed]",
      "text/plain": [
       "<Figure size 432x288 with 2 Axes>"
      ]
     },
     "metadata": {
      "needs_background": "light"
     },
     "output_type": "display_data"
    }
   ],
   "source": [
    "sns.heatmap(df_cm_RF,annot=True)"
   ]
  },
  {
   "cell_type": "markdown",
   "metadata": {},
   "source": [
    "## SUPPORT VECTOR MACHINE"
   ]
  },
  {
   "cell_type": "code",
   "execution_count": 30,
   "metadata": {},
   "outputs": [],
   "source": [
    "SVM = SVC()"
   ]
  },
  {
   "cell_type": "code",
   "execution_count": 31,
   "metadata": {},
   "outputs": [
    {
     "data": {
      "text/plain": [
       "SVC()"
      ]
     },
     "execution_count": 31,
     "metadata": {},
     "output_type": "execute_result"
    }
   ],
   "source": [
    "SVM.fit(x_train,y_train)"
   ]
  },
  {
   "cell_type": "code",
   "execution_count": 32,
   "metadata": {},
   "outputs": [],
   "source": [
    "y_SVM_train = SVM.predict(x_train)\n",
    "y_SVM_test = SVM.predict(x_test)"
   ]
  },
  {
   "cell_type": "code",
   "execution_count": 33,
   "metadata": {},
   "outputs": [],
   "source": [
    "accuracy_SVM_train = accuracy_score(y_train,y_SVM_train)\n",
    "precision_SVM_train= precision_score(y_train,y_SVM_train)\n",
    "recall_SVM_train = recall_score(y_train,y_SVM_train)\n",
    "f1_SVM_train= f1_score(y_train,y_SVM_train)\n",
    "\n",
    "accuracy_SVM_test = accuracy_score(y_test,y_SVM_test)\n",
    "precision_SVM_test= precision_score(y_test,y_SVM_test)\n",
    "recall_SVM_test = recall_score(y_test,y_SVM_test)\n",
    "f1_SVM_test = f1_score(y_test,y_SVM_test)"
   ]
  },
  {
   "cell_type": "code",
   "execution_count": 34,
   "metadata": {},
   "outputs": [
    {
     "name": "stdout",
     "output_type": "stream",
     "text": [
      "EVALUATION MATRIX SVM :\n",
      "Accuracy =  0.5846623776828674  VS  0.4449533204157125\n",
      "Precision =  0.5573164482834346  VS  0.2270481144343303\n",
      "Recall =  0.8232145753365411  VS  0.8298479087452472\n",
      "F1_Score =  0.664658766014099  VS  0.3565448233612416\n"
     ]
    }
   ],
   "source": [
    "print(\"EVALUATION MATRIX SVM :\")\n",
    "print(\"Accuracy = \",accuracy_SVM_train,\" VS \",accuracy_SVM_test)\n",
    "print(\"Precision = \",precision_SVM_train,\" VS \",precision_SVM_test)\n",
    "print(\"Recall = \",recall_SVM_train,\" VS \",recall_SVM_test)\n",
    "print(\"F1_Score = \",f1_SVM_train,\" VS \",f1_SVM_test)"
   ]
  },
  {
   "cell_type": "code",
   "execution_count": 35,
   "metadata": {},
   "outputs": [
    {
     "data": {
      "text/html": [
       "<div>\n",
       "<style scoped>\n",
       "    .dataframe tbody tr th:only-of-type {\n",
       "        vertical-align: middle;\n",
       "    }\n",
       "\n",
       "    .dataframe tbody tr th {\n",
       "        vertical-align: top;\n",
       "    }\n",
       "\n",
       "    .dataframe thead th {\n",
       "        text-align: right;\n",
       "    }\n",
       "</style>\n",
       "<table border=\"1\" class=\"dataframe\">\n",
       "  <thead>\n",
       "    <tr style=\"text-align: right;\">\n",
       "      <th></th>\n",
       "      <th>Pred_1</th>\n",
       "      <th>Pred_0</th>\n",
       "    </tr>\n",
       "  </thead>\n",
       "  <tbody>\n",
       "    <tr>\n",
       "      <th>Aktual_1</th>\n",
       "      <td>873</td>\n",
       "      <td>179</td>\n",
       "    </tr>\n",
       "    <tr>\n",
       "      <th>Aktual_0</th>\n",
       "      <td>2972</td>\n",
       "      <td>1653</td>\n",
       "    </tr>\n",
       "  </tbody>\n",
       "</table>\n",
       "</div>"
      ],
      "text/plain": [
       "          Pred_1  Pred_0\n",
       "Aktual_1     873     179\n",
       "Aktual_0    2972    1653"
      ]
     },
     "execution_count": 35,
     "metadata": {},
     "output_type": "execute_result"
    }
   ],
   "source": [
    "cm_SVM = confusion_matrix(y_test,y_SVM_test,labels=[1,0])\n",
    "df_cm_SVM= pd.DataFrame(data=cm_SVM,columns=[\"Pred_1\",\"Pred_0\"],index=[\"Aktual_1\",\"Aktual_0\"])\n",
    "df_cm_SVM"
   ]
  },
  {
   "cell_type": "code",
   "execution_count": 36,
   "metadata": {},
   "outputs": [
    {
     "data": {
      "text/plain": [
       "<matplotlib.axes._subplots.AxesSubplot at 0x2a2a96aee80>"
      ]
     },
     "execution_count": 36,
     "metadata": {},
     "output_type": "execute_result"
    },
    {
     "data": {
      "image/png": "[encoded data removed]",
      "text/plain": [
       "<Figure size 432x288 with 2 Axes>"
      ]
     },
     "metadata": {
      "needs_background": "light"
     },
     "output_type": "display_data"
    }
   ],
   "source": [
    "sns.heatmap(df_cm_SVM,annot=True)"
   ]
  },
  {
   "cell_type": "markdown",
   "metadata": {},
   "source": [
    "# SVM SCALED"
   ]
  },
  {
   "cell_type": "code",
   "execution_count": 37,
   "metadata": {},
   "outputs": [],
   "source": [
    "scaler_svm = StandardScaler()\n",
    "x_train_svm = scaler_svm.fit_transform(x_train)\n",
    "x_test_svm = scaler_svm.fit_transform(x_test)"
   ]
  },
  {
   "cell_type": "code",
   "execution_count": 38,
   "metadata": {},
   "outputs": [],
   "source": [
    "SVM_scaled = SVC()"
   ]
  },
  {
   "cell_type": "code",
   "execution_count": 39,
   "metadata": {},
   "outputs": [
    {
     "data": {
      "text/plain": [
       "SVC()"
      ]
     },
     "execution_count": 39,
     "metadata": {},
     "output_type": "execute_result"
    }
   ],
   "source": [
    "SVM_scaled.fit(x_train_svm,y_train)"
   ]
  },
  {
   "cell_type": "code",
   "execution_count": 40,
   "metadata": {},
   "outputs": [],
   "source": [
    "y_SVM_train_scaled = SVM.predict(x_train_svm)\n",
    "y_SVM_test_scaled = SVM.predict(x_test_svm)"
   ]
  },
  {
   "cell_type": "code",
   "execution_count": 41,
   "metadata": {},
   "outputs": [],
   "source": [
    "accuracy_SVM_train_scaled = accuracy_score(y_train,y_SVM_train)\n",
    "precision_SVM_train_scaled= precision_score(y_train,y_SVM_train)\n",
    "recall_SVM_train_scaled = recall_score(y_train,y_SVM_train)\n",
    "f1_SVM_train_scaled= f1_score(y_train,y_SVM_train)\n",
    "\n",
    "accuracy_SVM_test_scaled = accuracy_score(y_test,y_SVM_test)\n",
    "precision_SVM_test_scaled= precision_score(y_test,y_SVM_test)\n",
    "recall_SVM_test_scaled = recall_score(y_test,y_SVM_test)\n",
    "f1_SVM_test_scaled = f1_score(y_test,y_SVM_test)"
   ]
  },
  {
   "cell_type": "code",
   "execution_count": 42,
   "metadata": {},
   "outputs": [
    {
     "name": "stdout",
     "output_type": "stream",
     "text": [
      "EVALUATION MATRIX SVM Scaled:\n",
      "Accuracy =  0.5846623776828674  VS  0.4449533204157125\n",
      "Precision =  0.5573164482834346  VS  0.2270481144343303\n",
      "Recall =  0.8232145753365411  VS  0.8298479087452472\n",
      "F1_Score =  0.664658766014099  VS  0.3565448233612416\n"
     ]
    }
   ],
   "source": [
    "print(\"EVALUATION MATRIX SVM Scaled:\")\n",
    "print(\"Accuracy = \",accuracy_SVM_train_scaled,\" VS \",accuracy_SVM_test_scaled)\n",
    "print(\"Precision = \",precision_SVM_train_scaled,\" VS \",precision_SVM_test_scaled)\n",
    "print(\"Recall = \",recall_SVM_train_scaled,\" VS \",recall_SVM_test_scaled)\n",
    "print(\"F1_Score = \",f1_SVM_train_scaled,\" VS \",f1_SVM_test_scaled)"
   ]
  },
  {
   "cell_type": "code",
   "execution_count": 43,
   "metadata": {},
   "outputs": [
    {
     "data": {
      "text/html": [
       "<div>\n",
       "<style scoped>\n",
       "    .dataframe tbody tr th:only-of-type {\n",
       "        vertical-align: middle;\n",
       "    }\n",
       "\n",
       "    .dataframe tbody tr th {\n",
       "        vertical-align: top;\n",
       "    }\n",
       "\n",
       "    .dataframe thead th {\n",
       "        text-align: right;\n",
       "    }\n",
       "</style>\n",
       "<table border=\"1\" class=\"dataframe\">\n",
       "  <thead>\n",
       "    <tr style=\"text-align: right;\">\n",
       "      <th></th>\n",
       "      <th>Pred_1</th>\n",
       "      <th>Pred_0</th>\n",
       "    </tr>\n",
       "  </thead>\n",
       "  <tbody>\n",
       "    <tr>\n",
       "      <th>Aktual_1</th>\n",
       "      <td>1052</td>\n",
       "      <td>0</td>\n",
       "    </tr>\n",
       "    <tr>\n",
       "      <th>Aktual_0</th>\n",
       "      <td>4625</td>\n",
       "      <td>0</td>\n",
       "    </tr>\n",
       "  </tbody>\n",
       "</table>\n",
       "</div>"
      ],
      "text/plain": [
       "          Pred_1  Pred_0\n",
       "Aktual_1    1052       0\n",
       "Aktual_0    4625       0"
      ]
     },
     "execution_count": 43,
     "metadata": {},
     "output_type": "execute_result"
    }
   ],
   "source": [
    "cm_SVM_scaled = confusion_matrix(y_test,y_SVM_test_scaled,labels=[1,0])\n",
    "df_cm_SVM_scaled= pd.DataFrame(data=cm_SVM_scaled,columns=[\"Pred_1\",\"Pred_0\"],index=[\"Aktual_1\",\"Aktual_0\"])\n",
    "df_cm_SVM_scaled"
   ]
  },
  {
   "cell_type": "code",
   "execution_count": 44,
   "metadata": {},
   "outputs": [
    {
     "data": {
      "text/plain": [
       "<matplotlib.axes._subplots.AxesSubplot at 0x2a2a9721eb0>"
      ]
     },
     "execution_count": 44,
     "metadata": {},
     "output_type": "execute_result"
    },
    {
     "data": {
      "image/png": "[encoded data removed]",
      "text/plain": [
       "<Figure size 432x288 with 2 Axes>"
      ]
     },
     "metadata": {
      "needs_background": "light"
     },
     "output_type": "display_data"
    }
   ],
   "source": [
    "sns.heatmap(df_cm_SVM_scaled,annot=True)"
   ]
  },
  {
   "cell_type": "markdown",
   "metadata": {},
   "source": [
    "## ============== HYPER PARAMETER TUNING =================="
   ]
  },
  {
   "cell_type": "markdown",
   "metadata": {},
   "source": [
    "### SVM TUNED ---- SMOTE"
   ]
  },
  {
   "cell_type": "code",
   "execution_count": 45,
   "metadata": {},
   "outputs": [],
   "source": [
    "SVM_Tuned = SVC()"
   ]
  },
  {
   "cell_type": "code",
   "execution_count": 46,
   "metadata": {},
   "outputs": [],
   "source": [
    "parameter_SVM = {\n",
    "    \"C\" : [200], #float\n",
    "    \"kernel\" : [\"rbf\"], # linear,poly,rbf,sigmoid,precomputed\n",
    "    \"degree\" : [3], # int (degree of poly)\n",
    "    \"gamma\" : [\"scale\"], #scale , auto\n",
    "    \"coef0\" : [0.1], #float\n",
    "    \"tol\" : [0.001], #float\n",
    "    \"probability\" : [True], #bool\n",
    "    \"cache_size\" : [200],\n",
    "    \"max_iter\" : [2], # int, -1 ==> no limit\n",
    "    \"decision_function_shape\" : [\"ovr\"] # ovo/ovr\n",
    "}"
   ]
  },
  {
   "cell_type": "code",
   "execution_count": 47,
   "metadata": {},
   "outputs": [],
   "source": [
    "model_SVM_Tuned = GridSearchCV(estimator = SVM_Tuned,\n",
    "                       param_grid= parameter_SVM,\n",
    "                       cv = 5,\n",
    "                       n_jobs = -1,\n",
    "                       verbose=1)"
   ]
  },
  {
   "cell_type": "code",
   "execution_count": 48,
   "metadata": {},
   "outputs": [
    {
     "name": "stdout",
     "output_type": "stream",
     "text": [
      "Fitting 5 folds for each of 1 candidates, totalling 5 fits\n"
     ]
    },
    {
     "name": "stderr",
     "output_type": "stream",
     "text": [
      "[Parallel(n_jobs=-1)]: Using backend LokyBackend with 8 concurrent workers.\n",
      "[Parallel(n_jobs=-1)]: Done   2 out of   5 | elapsed:    2.2s remaining:    3.4s\n",
      "[Parallel(n_jobs=-1)]: Done   5 out of   5 | elapsed:    2.2s finished\n"
     ]
    },
    {
     "data": {
      "text/plain": [
       "GridSearchCV(cv=5, estimator=SVC(), n_jobs=-1,\n",
       "             param_grid={'C': [200], 'cache_size': [200], 'coef0': [0.1],\n",
       "                         'decision_function_shape': ['ovr'], 'degree': [3],\n",
       "                         'gamma': ['scale'], 'kernel': ['rbf'], 'max_iter': [2],\n",
       "                         'probability': [True], 'tol': [0.001]},\n",
       "             verbose=1)"
      ]
     },
     "execution_count": 48,
     "metadata": {},
     "output_type": "execute_result"
    }
   ],
   "source": [
    "model_SVM_Tuned.fit(x_train,y_train)"
   ]
  },
  {
   "cell_type": "code",
   "execution_count": 49,
   "metadata": {},
   "outputs": [
    {
     "data": {
      "text/plain": [
       "SVC(C=200, coef0=0.1, max_iter=2, probability=True)"
      ]
     },
     "execution_count": 49,
     "metadata": {},
     "output_type": "execute_result"
    }
   ],
   "source": [
    "model_SVM_Tuned.best_estimator_"
   ]
  },
  {
   "cell_type": "code",
   "execution_count": 50,
   "metadata": {},
   "outputs": [],
   "source": [
    "SVM_Tuned = model_SVM_Tuned.best_estimator_"
   ]
  },
  {
   "cell_type": "code",
   "execution_count": 51,
   "metadata": {},
   "outputs": [],
   "source": [
    "y_SVM_Tuned_train = SVM_Tuned.predict(x_train)\n",
    "y_SVM_Tuned_test = SVM_Tuned.predict(x_test)"
   ]
  },
  {
   "cell_type": "code",
   "execution_count": 52,
   "metadata": {},
   "outputs": [],
   "source": [
    "accuracy_SVM_Tuned_train = accuracy_score(y_train,y_SVM_Tuned_train)\n",
    "precision_SVM_Tuned_train= precision_score(y_train,y_SVM_Tuned_train)\n",
    "recall_SVM_Tuned_train = recall_score(y_train,y_SVM_Tuned_train)\n",
    "f1_SVM_Tuned_train = f1_score(y_train,y_SVM_Tuned_train)\n",
    "\n",
    "accuracy_SVM_Tuned_test = accuracy_score(y_test,y_SVM_Tuned_test)\n",
    "precision_SVM_Tuned_test= precision_score(y_test,y_SVM_Tuned_test)\n",
    "recall_SVM_Tuned_test = recall_score(y_test,y_SVM_Tuned_test)\n",
    "f1_SVM_Tuned_test = f1_score(y_test,y_SVM_Tuned_test)"
   ]
  },
  {
   "cell_type": "code",
   "execution_count": 53,
   "metadata": {},
   "outputs": [
    {
     "name": "stdout",
     "output_type": "stream",
     "text": [
      "EVALUATION MATRIX LOGREG TUNED:\n",
      "Accuracy =  0.498269989728064  VS  0.1890082790206095\n",
      "Precision =  0.4991284453644188  VS  0.18532955350815025\n",
      "Recall =  0.990755257609342  VS  0.9942965779467681\n",
      "F1_Score =  0.6638291706663286  VS  0.31242532855436084\n"
     ]
    }
   ],
   "source": [
    "print(\"EVALUATION MATRIX LOGREG TUNED:\")\n",
    "print(\"Accuracy = \",accuracy_SVM_Tuned_train,\" VS \",accuracy_SVM_Tuned_test)\n",
    "print(\"Precision = \",precision_SVM_Tuned_train,\" VS \",precision_SVM_Tuned_test)\n",
    "print(\"Recall = \",recall_SVM_Tuned_train,\" VS \",recall_SVM_Tuned_test)\n",
    "print(\"F1_Score = \",f1_SVM_Tuned_train,\" VS \",f1_SVM_Tuned_test)"
   ]
  },
  {
   "cell_type": "code",
   "execution_count": 54,
   "metadata": {},
   "outputs": [
    {
     "data": {
      "text/html": [
       "<div>\n",
       "<style scoped>\n",
       "    .dataframe tbody tr th:only-of-type {\n",
       "        vertical-align: middle;\n",
       "    }\n",
       "\n",
       "    .dataframe tbody tr th {\n",
       "        vertical-align: top;\n",
       "    }\n",
       "\n",
       "    .dataframe thead th {\n",
       "        text-align: right;\n",
       "    }\n",
       "</style>\n",
       "<table border=\"1\" class=\"dataframe\">\n",
       "  <thead>\n",
       "    <tr style=\"text-align: right;\">\n",
       "      <th></th>\n",
       "      <th>Pred_1</th>\n",
       "      <th>Pred_0</th>\n",
       "    </tr>\n",
       "  </thead>\n",
       "  <tbody>\n",
       "    <tr>\n",
       "      <th>Aktual_1</th>\n",
       "      <td>1046</td>\n",
       "      <td>6</td>\n",
       "    </tr>\n",
       "    <tr>\n",
       "      <th>Aktual_0</th>\n",
       "      <td>4598</td>\n",
       "      <td>27</td>\n",
       "    </tr>\n",
       "  </tbody>\n",
       "</table>\n",
       "</div>"
      ],
      "text/plain": [
       "          Pred_1  Pred_0\n",
       "Aktual_1    1046       6\n",
       "Aktual_0    4598      27"
      ]
     },
     "execution_count": 54,
     "metadata": {},
     "output_type": "execute_result"
    }
   ],
   "source": [
    "cm_SVM_Tuned = confusion_matrix(y_test,y_SVM_Tuned_test,labels=[1,0])\n",
    "df_cm_SVM_Tuned = pd.DataFrame(data=cm_SVM_Tuned,columns=[\"Pred_1\",\"Pred_0\"],index=[\"Aktual_1\",\"Aktual_0\"])\n",
    "df_cm_SVM_Tuned"
   ]
  },
  {
   "cell_type": "code",
   "execution_count": 55,
   "metadata": {},
   "outputs": [
    {
     "data": {
      "text/plain": [
       "<matplotlib.axes._subplots.AxesSubplot at 0x2a2b2048160>"
      ]
     },
     "execution_count": 55,
     "metadata": {},
     "output_type": "execute_result"
    },
    {
     "data": {
      "image/png": "[encoded data removed]",
      "text/plain": [
       "<Figure size 432x288 with 2 Axes>"
      ]
     },
     "metadata": {
      "needs_background": "light"
     },
     "output_type": "display_data"
    }
   ],
   "source": [
    "sns.heatmap(df_cm_SVM_Tuned,annot=True)"
   ]
  },
  {
   "cell_type": "markdown",
   "metadata": {},
   "source": [
    "### SVM TUNED --- CLASS WEIGHT"
   ]
  },
  {
   "cell_type": "code",
   "execution_count": 116,
   "metadata": {},
   "outputs": [],
   "source": [
    "SVM_Tuned_CW = SVC()"
   ]
  },
  {
   "cell_type": "code",
   "execution_count": 117,
   "metadata": {},
   "outputs": [],
   "source": [
    "parameter_SVM_CW = {\n",
    "    \"C\" : [1000], #float\n",
    "    \"kernel\" : [\"rbf\"], # linear,poly,rbf,sigmoid,precomputed\n",
    "    \"degree\" : [3], # int (degree of poly)\n",
    "    \"gamma\" : [\"scale\"], #scale , auto\n",
    "    \"coef0\" : [0.1], #float\n",
    "    \"tol\" : [0.001], #float\n",
    "    \"probability\" : [True], #bool\n",
    "    \"cache_size\" : [200],\n",
    "    \"class_weight\": [{0:0.4,1:100}], #\"balanced\"\n",
    "    \"max_iter\" : [2], # int, -1 ==> no limit\n",
    "    \"decision_function_shape\" : [\"ovr\"] # ovo/ovr\n",
    "}"
   ]
  },
  {
   "cell_type": "code",
   "execution_count": 118,
   "metadata": {},
   "outputs": [],
   "source": [
    "model_SVM_Tuned_CW = GridSearchCV(estimator = SVM_Tuned_CW,\n",
    "                       param_grid= parameter_SVM_CW,\n",
    "                       cv = 5,\n",
    "                       n_jobs = -1,\n",
    "                       verbose=1)"
   ]
  },
  {
   "cell_type": "code",
   "execution_count": 119,
   "metadata": {},
   "outputs": [
    {
     "name": "stdout",
     "output_type": "stream",
     "text": [
      "Fitting 5 folds for each of 1 candidates, totalling 5 fits\n"
     ]
    },
    {
     "name": "stderr",
     "output_type": "stream",
     "text": [
      "[Parallel(n_jobs=-1)]: Using backend LokyBackend with 8 concurrent workers.\n",
      "[Parallel(n_jobs=-1)]: Done   2 out of   5 | elapsed:    0.1s remaining:    0.2s\n",
      "[Parallel(n_jobs=-1)]: Done   5 out of   5 | elapsed:    0.1s finished\n"
     ]
    },
    {
     "data": {
      "text/plain": [
       "GridSearchCV(cv=5, estimator=SVC(), n_jobs=-1,\n",
       "             param_grid={'C': [1000], 'cache_size': [200],\n",
       "                         'class_weight': [{0: 0.4, 1: 100}], 'coef0': [0.1],\n",
       "                         'decision_function_shape': ['ovr'], 'degree': [3],\n",
       "                         'gamma': ['scale'], 'kernel': ['rbf'], 'max_iter': [2],\n",
       "                         'probability': [True], 'tol': [0.001]},\n",
       "             verbose=1)"
      ]
     },
     "execution_count": 119,
     "metadata": {},
     "output_type": "execute_result"
    }
   ],
   "source": [
    "model_SVM_Tuned_CW.fit(x_train_NH,y_train_NH)"
   ]
  },
  {
   "cell_type": "code",
   "execution_count": 120,
   "metadata": {},
   "outputs": [
    {
     "data": {
      "text/plain": [
       "SVC(C=1000, class_weight={0: 0.4, 1: 100}, coef0=0.1, max_iter=2,\n",
       "    probability=True)"
      ]
     },
     "execution_count": 120,
     "metadata": {},
     "output_type": "execute_result"
    }
   ],
   "source": [
    "model_SVM_Tuned_CW.best_estimator_"
   ]
  },
  {
   "cell_type": "code",
   "execution_count": 121,
   "metadata": {},
   "outputs": [],
   "source": [
    "SVM_Tuned_CW = model_SVM_Tuned_CW.best_estimator_"
   ]
  },
  {
   "cell_type": "code",
   "execution_count": 122,
   "metadata": {},
   "outputs": [],
   "source": [
    "y_SVM_Tuned_CW_train = SVM_Tuned_CW.predict(x_train_NH)\n",
    "y_SVM_Tuned_CW_test = SVM_Tuned_CW.predict(x_test)"
   ]
  },
  {
   "cell_type": "code",
   "execution_count": 123,
   "metadata": {},
   "outputs": [],
   "source": [
    "accuracy_SVM_Tuned_CW_train = accuracy_score(y_train_NH,y_SVM_Tuned_CW_train)\n",
    "precision_SVM_Tuned_CW_train= precision_score(y_train_NH,y_SVM_Tuned_CW_train)\n",
    "recall_SVM_Tuned_CW_train = recall_score(y_train_NH,y_SVM_Tuned_CW_train)\n",
    "f1_SVM_Tuned_CW_train = f1_score(y_train_NH,y_SVM_Tuned_CW_train)\n",
    "\n",
    "accuracy_SVM_Tuned_CW_test = accuracy_score(y_test,y_SVM_Tuned_CW_test)\n",
    "precision_SVM_Tuned_CW_test= precision_score(y_test,y_SVM_Tuned_CW_test)\n",
    "recall_SVM_Tuned_CW_test = recall_score(y_test,y_SVM_Tuned_CW_test)\n",
    "f1_SVM_Tuned_CW_test = f1_score(y_test,y_SVM_Tuned_CW_test)"
   ]
  },
  {
   "cell_type": "code",
   "execution_count": 124,
   "metadata": {},
   "outputs": [
    {
     "name": "stdout",
     "output_type": "stream",
     "text": [
      "EVALUATION MATRIX LOGREG TUNED:\n",
      "Accuracy =  0.19114732437789034  VS  0.19147437026598554\n",
      "Precision =  0.18462909333927377  VS  0.1851192595229619\n",
      "Recall =  0.9847908745247148  VS  0.9885931558935361\n",
      "F1_Score =  0.3109593666754212  VS  0.3118440779610195\n"
     ]
    }
   ],
   "source": [
    "print(\"EVALUATION MATRIX LOGREG TUNED:\")\n",
    "print(\"Accuracy = \",accuracy_SVM_Tuned_CW_train,\" VS \",accuracy_SVM_Tuned_CW_test)\n",
    "print(\"Precision = \",precision_SVM_Tuned_CW_train,\" VS \",precision_SVM_Tuned_CW_test)\n",
    "print(\"Recall = \",recall_SVM_Tuned_CW_train,\" VS \",recall_SVM_Tuned_CW_test)\n",
    "print(\"F1_Score = \",f1_SVM_Tuned_CW_train,\" VS \",f1_SVM_Tuned_CW_test)"
   ]
  },
  {
   "cell_type": "code",
   "execution_count": 125,
   "metadata": {},
   "outputs": [
    {
     "data": {
      "text/html": [
       "<div>\n",
       "<style scoped>\n",
       "    .dataframe tbody tr th:only-of-type {\n",
       "        vertical-align: middle;\n",
       "    }\n",
       "\n",
       "    .dataframe tbody tr th {\n",
       "        vertical-align: top;\n",
       "    }\n",
       "\n",
       "    .dataframe thead th {\n",
       "        text-align: right;\n",
       "    }\n",
       "</style>\n",
       "<table border=\"1\" class=\"dataframe\">\n",
       "  <thead>\n",
       "    <tr style=\"text-align: right;\">\n",
       "      <th></th>\n",
       "      <th>Pred_1</th>\n",
       "      <th>Pred_0</th>\n",
       "    </tr>\n",
       "  </thead>\n",
       "  <tbody>\n",
       "    <tr>\n",
       "      <th>Aktual_1</th>\n",
       "      <td>1040</td>\n",
       "      <td>12</td>\n",
       "    </tr>\n",
       "    <tr>\n",
       "      <th>Aktual_0</th>\n",
       "      <td>4578</td>\n",
       "      <td>47</td>\n",
       "    </tr>\n",
       "  </tbody>\n",
       "</table>\n",
       "</div>"
      ],
      "text/plain": [
       "          Pred_1  Pred_0\n",
       "Aktual_1    1040      12\n",
       "Aktual_0    4578      47"
      ]
     },
     "execution_count": 125,
     "metadata": {},
     "output_type": "execute_result"
    }
   ],
   "source": [
    "cm_SVM_Tuned_CW = confusion_matrix(y_test,y_SVM_Tuned_CW_test,labels=[1,0])\n",
    "df_cm_SVM_Tuned_CW = pd.DataFrame(data=cm_SVM_Tuned_CW,columns=[\"Pred_1\",\"Pred_0\"],index=[\"Aktual_1\",\"Aktual_0\"])\n",
    "df_cm_SVM_Tuned_CW"
   ]
  },
  {
   "cell_type": "code",
   "execution_count": 126,
   "metadata": {},
   "outputs": [
    {
     "data": {
      "text/plain": [
       "<matplotlib.axes._subplots.AxesSubplot at 0x2a2b2063490>"
      ]
     },
     "execution_count": 126,
     "metadata": {},
     "output_type": "execute_result"
    },
    {
     "data": {
      "image/png": "[encoded data removed]",
      "text/plain": [
       "<Figure size 432x288 with 2 Axes>"
      ]
     },
     "metadata": {
      "needs_background": "light"
     },
     "output_type": "display_data"
    }
   ],
   "source": [
    "sns.heatmap(df_cm_SVM_Tuned_CW,annot=True)"
   ]
  },
  {
   "cell_type": "markdown",
   "metadata": {},
   "source": [
    "### LOGREG TUNED"
   ]
  },
  {
   "cell_type": "code",
   "execution_count": 67,
   "metadata": {},
   "outputs": [],
   "source": [
    "LR_Tuned = LogisticRegression()"
   ]
  },
  {
   "cell_type": "code",
   "execution_count": 68,
   "metadata": {},
   "outputs": [],
   "source": [
    "parameter_LR ={\n",
    "    \"penalty\" : [\"l2\"],\n",
    "    \"tol\" : [5],\n",
    "    \"C\" : [1],\n",
    "    \"solver\" : ['lbfgs'],\n",
    "    \"max_iter\" : [5],\n",
    "    \"class_weight\" : [\"balanced\"],\n",
    "}"
   ]
  },
  {
   "cell_type": "code",
   "execution_count": 69,
   "metadata": {},
   "outputs": [],
   "source": [
    "model_LR_Tuned = GridSearchCV(estimator = LR_Tuned,\n",
    "                       param_grid= parameter_LR,\n",
    "                       cv = 5,\n",
    "                       n_jobs = -1,\n",
    "                       verbose=1)"
   ]
  },
  {
   "cell_type": "code",
   "execution_count": 70,
   "metadata": {},
   "outputs": [
    {
     "name": "stdout",
     "output_type": "stream",
     "text": [
      "Fitting 5 folds for each of 1 candidates, totalling 5 fits\n"
     ]
    },
    {
     "name": "stderr",
     "output_type": "stream",
     "text": [
      "[Parallel(n_jobs=-1)]: Using backend LokyBackend with 8 concurrent workers.\n",
      "[Parallel(n_jobs=-1)]: Done   2 out of   5 | elapsed:    0.2s remaining:    0.4s\n",
      "[Parallel(n_jobs=-1)]: Done   5 out of   5 | elapsed:    0.2s finished\n"
     ]
    },
    {
     "data": {
      "text/plain": [
       "GridSearchCV(cv=5, estimator=LogisticRegression(), n_jobs=-1,\n",
       "             param_grid={'C': [1], 'class_weight': ['balanced'],\n",
       "                         'max_iter': [5], 'penalty': ['l2'],\n",
       "                         'solver': ['lbfgs'], 'tol': [5]},\n",
       "             verbose=1)"
      ]
     },
     "execution_count": 70,
     "metadata": {},
     "output_type": "execute_result"
    }
   ],
   "source": [
    "model_LR_Tuned.fit(x_train_scaled,y_train)"
   ]
  },
  {
   "cell_type": "code",
   "execution_count": 71,
   "metadata": {},
   "outputs": [
    {
     "data": {
      "text/plain": [
       "LogisticRegression(C=1, class_weight='balanced', max_iter=5, tol=5)"
      ]
     },
     "execution_count": 71,
     "metadata": {},
     "output_type": "execute_result"
    }
   ],
   "source": [
    "model_LR_Tuned.best_estimator_"
   ]
  },
  {
   "cell_type": "code",
   "execution_count": 72,
   "metadata": {},
   "outputs": [],
   "source": [
    "LR_Tuned = model_LR_Tuned.best_estimator_"
   ]
  },
  {
   "cell_type": "code",
   "execution_count": 73,
   "metadata": {},
   "outputs": [],
   "source": [
    "y_LR_Tuned_train = LR_Tuned.predict(x_train_scaled)\n",
    "y_LR_Tuned_test = LR_Tuned.predict(x_test_scaled)"
   ]
  },
  {
   "cell_type": "code",
   "execution_count": 74,
   "metadata": {},
   "outputs": [],
   "source": [
    "accuracy_LR_Tuned_train = accuracy_score(y_train,y_LR_Tuned_train)\n",
    "precision_LR_Tuned_train= precision_score(y_train,y_LR_Tuned_train)\n",
    "recall_LR_Tuned_train = recall_score(y_train,y_LR_Tuned_train)\n",
    "f1_LR_Tuned_train = f1_score(y_train,y_LR_Tuned_train)\n",
    "\n",
    "accuracy_LR_Tuned_test = accuracy_score(y_test,y_LR_Tuned_test)\n",
    "precision_LR_Tuned_test= precision_score(y_test,y_LR_Tuned_test)\n",
    "recall_LR_Tuned_test = recall_score(y_test,y_LR_Tuned_test)\n",
    "f1_LR_Tuned_test = f1_score(y_test,y_LR_Tuned_test)"
   ]
  },
  {
   "cell_type": "code",
   "execution_count": 75,
   "metadata": {},
   "outputs": [
    {
     "name": "stdout",
     "output_type": "stream",
     "text": [
      "EVALUATION MATRIX LOGREG TUNED:\n",
      "Accuracy =  0.7030869870789858  VS  0.31178439316540424\n",
      "Precision =  0.8286239174175488  VS  0.19530416221985059\n",
      "Recall =  0.512083040493053  VS  0.8697718631178707\n",
      "F1_Score =  0.6329858326650628  VS  0.3189820463656964\n"
     ]
    }
   ],
   "source": [
    "print(\"EVALUATION MATRIX LOGREG TUNED:\")\n",
    "print(\"Accuracy = \",accuracy_LR_Tuned_train,\" VS \",accuracy_LR_Tuned_test)\n",
    "print(\"Precision = \",precision_LR_Tuned_train,\" VS \",precision_LR_Tuned_test)\n",
    "print(\"Recall = \",recall_LR_Tuned_train,\" VS \",recall_LR_Tuned_test)\n",
    "print(\"F1_Score = \",f1_LR_Tuned_train,\" VS \",f1_LR_Tuned_test)"
   ]
  },
  {
   "cell_type": "code",
   "execution_count": 76,
   "metadata": {},
   "outputs": [
    {
     "data": {
      "text/html": [
       "<div>\n",
       "<style scoped>\n",
       "    .dataframe tbody tr th:only-of-type {\n",
       "        vertical-align: middle;\n",
       "    }\n",
       "\n",
       "    .dataframe tbody tr th {\n",
       "        vertical-align: top;\n",
       "    }\n",
       "\n",
       "    .dataframe thead th {\n",
       "        text-align: right;\n",
       "    }\n",
       "</style>\n",
       "<table border=\"1\" class=\"dataframe\">\n",
       "  <thead>\n",
       "    <tr style=\"text-align: right;\">\n",
       "      <th></th>\n",
       "      <th>Pred_1</th>\n",
       "      <th>Pred_0</th>\n",
       "    </tr>\n",
       "  </thead>\n",
       "  <tbody>\n",
       "    <tr>\n",
       "      <th>Aktual_1</th>\n",
       "      <td>915</td>\n",
       "      <td>137</td>\n",
       "    </tr>\n",
       "    <tr>\n",
       "      <th>Aktual_0</th>\n",
       "      <td>3770</td>\n",
       "      <td>855</td>\n",
       "    </tr>\n",
       "  </tbody>\n",
       "</table>\n",
       "</div>"
      ],
      "text/plain": [
       "          Pred_1  Pred_0\n",
       "Aktual_1     915     137\n",
       "Aktual_0    3770     855"
      ]
     },
     "execution_count": 76,
     "metadata": {},
     "output_type": "execute_result"
    }
   ],
   "source": [
    "cm_LR_Tuned = confusion_matrix(y_test,y_LR_Tuned_test,labels=[1,0])\n",
    "df_cm_LR_Tuned = pd.DataFrame(data=cm_LR_Tuned,columns=[\"Pred_1\",\"Pred_0\"],index=[\"Aktual_1\",\"Aktual_0\"])\n",
    "df_cm_LR_Tuned"
   ]
  },
  {
   "cell_type": "code",
   "execution_count": 77,
   "metadata": {},
   "outputs": [
    {
     "data": {
      "text/plain": [
       "<matplotlib.axes._subplots.AxesSubplot at 0x2a2a97b20a0>"
      ]
     },
     "execution_count": 77,
     "metadata": {},
     "output_type": "execute_result"
    },
    {
     "data": {
      "image/png": "[encoded data removed]",
      "text/plain": [
       "<Figure size 432x288 with 2 Axes>"
      ]
     },
     "metadata": {
      "needs_background": "light"
     },
     "output_type": "display_data"
    }
   ],
   "source": [
    "sns.heatmap(df_cm_LR_Tuned,annot=True)"
   ]
  },
  {
   "cell_type": "markdown",
   "metadata": {},
   "source": [
    "### RANDOM FOREST TUNED"
   ]
  },
  {
   "cell_type": "code",
   "execution_count": 78,
   "metadata": {},
   "outputs": [],
   "source": [
    "RF_Tuned = RandomForestClassifier()"
   ]
  },
  {
   "cell_type": "code",
   "execution_count": 79,
   "metadata": {},
   "outputs": [],
   "source": [
    "parameter_RF ={\n",
    "    \"n_estimators\" : [2000],\n",
    "    \"max_depth\" : [2000],\n",
    "    \"min_samples_split\" : [5000],\n",
    "    \"min_samples_leaf\" : [2000],\n",
    "    \"max_features\" : [\"auto\"]\n",
    "}"
   ]
  },
  {
   "cell_type": "code",
   "execution_count": 80,
   "metadata": {},
   "outputs": [],
   "source": [
    "model_RF_Tuned = GridSearchCV(estimator = RF_Tuned,\n",
    "                       param_grid= parameter_RF,\n",
    "                       cv = 5,\n",
    "                       n_jobs = -1,\n",
    "                       verbose=1)"
   ]
  },
  {
   "cell_type": "code",
   "execution_count": 81,
   "metadata": {},
   "outputs": [
    {
     "name": "stdout",
     "output_type": "stream",
     "text": [
      "Fitting 5 folds for each of 1 candidates, totalling 5 fits\n"
     ]
    },
    {
     "name": "stderr",
     "output_type": "stream",
     "text": [
      "[Parallel(n_jobs=-1)]: Using backend LokyBackend with 8 concurrent workers.\n",
      "[Parallel(n_jobs=-1)]: Done   2 out of   5 | elapsed:   26.9s remaining:   40.4s\n",
      "[Parallel(n_jobs=-1)]: Done   5 out of   5 | elapsed:   27.3s finished\n"
     ]
    },
    {
     "data": {
      "text/plain": [
       "GridSearchCV(cv=5, estimator=RandomForestClassifier(), n_jobs=-1,\n",
       "             param_grid={'max_depth': [2000], 'max_features': ['auto'],\n",
       "                         'min_samples_leaf': [2000],\n",
       "                         'min_samples_split': [5000], 'n_estimators': [2000]},\n",
       "             verbose=1)"
      ]
     },
     "execution_count": 81,
     "metadata": {},
     "output_type": "execute_result"
    }
   ],
   "source": [
    "model_RF_Tuned.fit(x_train,y_train)"
   ]
  },
  {
   "cell_type": "code",
   "execution_count": 82,
   "metadata": {},
   "outputs": [
    {
     "data": {
      "text/plain": [
       "RandomForestClassifier(max_depth=2000, min_samples_leaf=2000,\n",
       "                       min_samples_split=5000, n_estimators=2000)"
      ]
     },
     "execution_count": 82,
     "metadata": {},
     "output_type": "execute_result"
    }
   ],
   "source": [
    "model_RF_Tuned.best_estimator_"
   ]
  },
  {
   "cell_type": "code",
   "execution_count": 83,
   "metadata": {},
   "outputs": [],
   "source": [
    "RF_Tuned = model_RF_Tuned.best_estimator_"
   ]
  },
  {
   "cell_type": "code",
   "execution_count": 84,
   "metadata": {},
   "outputs": [],
   "source": [
    "y_RF_Tuned_train = RF_Tuned.predict(x_train)\n",
    "y_RF_Tuned_test = RF_Tuned.predict(x_test)"
   ]
  },
  {
   "cell_type": "code",
   "execution_count": 85,
   "metadata": {},
   "outputs": [],
   "source": [
    "accuracy_RF_Tuned_train = accuracy_score(y_train,y_RF_Tuned_train)\n",
    "precision_RF_Tuned_train= precision_score(y_train,y_RF_Tuned_train)\n",
    "recall_RF_Tuned_train = recall_score(y_train,y_RF_Tuned_train)\n",
    "f1_RF_Tuned_train = f1_score(y_train,y_RF_Tuned_train)\n",
    "\n",
    "accuracy_RF_Tuned_test = accuracy_score(y_test,y_RF_Tuned_test)\n",
    "precision_RF_Tuned_test= precision_score(y_test,y_RF_Tuned_test)\n",
    "recall_RF_Tuned_test = recall_score(y_test,y_RF_Tuned_test)\n",
    "f1_RF_Tuned_test = f1_score(y_test,y_RF_Tuned_test)"
   ]
  },
  {
   "cell_type": "code",
   "execution_count": 86,
   "metadata": {},
   "outputs": [
    {
     "name": "stdout",
     "output_type": "stream",
     "text": [
      "EVALUATION MATRIX RANDOM FOREST TUNED:\n",
      "Accuracy =  0.7893171865707953  VS  0.8381187246785274\n",
      "Precision =  0.8903070527313836  VS  0.5790725326991677\n",
      "Recall =  0.659944855922582  VS  0.4629277566539924\n",
      "F1_Score =  0.75801043219076  VS  0.5145272054939249\n"
     ]
    }
   ],
   "source": [
    "print(\"EVALUATION MATRIX RANDOM FOREST TUNED:\")\n",
    "print(\"Accuracy = \",accuracy_RF_Tuned_train,\" VS \",accuracy_RF_Tuned_test)\n",
    "print(\"Precision = \",precision_RF_Tuned_train,\" VS \",precision_RF_Tuned_test)\n",
    "print(\"Recall = \",recall_RF_Tuned_train,\" VS \",recall_RF_Tuned_test)\n",
    "print(\"F1_Score = \",f1_RF_Tuned_train,\" VS \",f1_RF_Tuned_test)"
   ]
  },
  {
   "cell_type": "code",
   "execution_count": 87,
   "metadata": {},
   "outputs": [
    {
     "data": {
      "text/html": [
       "<div>\n",
       "<style scoped>\n",
       "    .dataframe tbody tr th:only-of-type {\n",
       "        vertical-align: middle;\n",
       "    }\n",
       "\n",
       "    .dataframe tbody tr th {\n",
       "        vertical-align: top;\n",
       "    }\n",
       "\n",
       "    .dataframe thead th {\n",
       "        text-align: right;\n",
       "    }\n",
       "</style>\n",
       "<table border=\"1\" class=\"dataframe\">\n",
       "  <thead>\n",
       "    <tr style=\"text-align: right;\">\n",
       "      <th></th>\n",
       "      <th>Pred_1</th>\n",
       "      <th>Pred_0</th>\n",
       "    </tr>\n",
       "  </thead>\n",
       "  <tbody>\n",
       "    <tr>\n",
       "      <th>Aktual_1</th>\n",
       "      <td>487</td>\n",
       "      <td>565</td>\n",
       "    </tr>\n",
       "    <tr>\n",
       "      <th>Aktual_0</th>\n",
       "      <td>354</td>\n",
       "      <td>4271</td>\n",
       "    </tr>\n",
       "  </tbody>\n",
       "</table>\n",
       "</div>"
      ],
      "text/plain": [
       "          Pred_1  Pred_0\n",
       "Aktual_1     487     565\n",
       "Aktual_0     354    4271"
      ]
     },
     "execution_count": 87,
     "metadata": {},
     "output_type": "execute_result"
    }
   ],
   "source": [
    "cm_RF_Tuned = confusion_matrix(y_test,y_RF_Tuned_test,labels=[1,0])\n",
    "df_cm_RF_Tuned = pd.DataFrame(data=cm_RF_Tuned,columns=[\"Pred_1\",\"Pred_0\"],index=[\"Aktual_1\",\"Aktual_0\"])\n",
    "df_cm_RF_Tuned"
   ]
  },
  {
   "cell_type": "code",
   "execution_count": 88,
   "metadata": {},
   "outputs": [
    {
     "data": {
      "text/plain": [
       "<matplotlib.axes._subplots.AxesSubplot at 0x2a2a97ad100>"
      ]
     },
     "execution_count": 88,
     "metadata": {},
     "output_type": "execute_result"
    },
    {
     "data": {
      "image/png": "[encoded data removed]",
      "text/plain": [
       "<Figure size 432x288 with 2 Axes>"
      ]
     },
     "metadata": {
      "needs_background": "light"
     },
     "output_type": "display_data"
    }
   ],
   "source": [
    "sns.heatmap(df_cm_RF_Tuned,annot=True)"
   ]
  },
  {
   "cell_type": "code",
   "execution_count": 89,
   "metadata": {},
   "outputs": [
    {
     "data": {
      "text/html": [
       "<div>\n",
       "<style scoped>\n",
       "    .dataframe tbody tr th:only-of-type {\n",
       "        vertical-align: middle;\n",
       "    }\n",
       "\n",
       "    .dataframe tbody tr th {\n",
       "        vertical-align: top;\n",
       "    }\n",
       "\n",
       "    .dataframe thead th {\n",
       "        text-align: right;\n",
       "    }\n",
       "</style>\n",
       "<table border=\"1\" class=\"dataframe\">\n",
       "  <thead>\n",
       "    <tr style=\"text-align: right;\">\n",
       "      <th></th>\n",
       "      <th>Recall Score</th>\n",
       "      <th>F1 Score</th>\n",
       "    </tr>\n",
       "  </thead>\n",
       "  <tbody>\n",
       "    <tr>\n",
       "      <th>LOGREG</th>\n",
       "      <td>0.315589</td>\n",
       "      <td>0.375141</td>\n",
       "    </tr>\n",
       "    <tr>\n",
       "      <th>LOGREG_SCALED</th>\n",
       "      <td>0.984791</td>\n",
       "      <td>0.314846</td>\n",
       "    </tr>\n",
       "    <tr>\n",
       "      <th>Random_Forest</th>\n",
       "      <td>0.420152</td>\n",
       "      <td>0.465018</td>\n",
       "    </tr>\n",
       "    <tr>\n",
       "      <th>SVM</th>\n",
       "      <td>0.829848</td>\n",
       "      <td>0.356545</td>\n",
       "    </tr>\n",
       "    <tr>\n",
       "      <th>SVM_SCALED</th>\n",
       "      <td>0.829848</td>\n",
       "      <td>0.356545</td>\n",
       "    </tr>\n",
       "    <tr>\n",
       "      <th>SVM_Tuned_Smote</th>\n",
       "      <td>0.994297</td>\n",
       "      <td>0.312425</td>\n",
       "    </tr>\n",
       "    <tr>\n",
       "      <th>SVM_Tuned_ClassWeight</th>\n",
       "      <td>0.999049</td>\n",
       "      <td>0.313031</td>\n",
       "    </tr>\n",
       "    <tr>\n",
       "      <th>LOGREG_Tuned</th>\n",
       "      <td>0.869772</td>\n",
       "      <td>0.318982</td>\n",
       "    </tr>\n",
       "    <tr>\n",
       "      <th>Random_Forest_Tuned</th>\n",
       "      <td>0.462928</td>\n",
       "      <td>0.514527</td>\n",
       "    </tr>\n",
       "  </tbody>\n",
       "</table>\n",
       "</div>"
      ],
      "text/plain": [
       "                       Recall Score  F1 Score\n",
       "LOGREG                     0.315589  0.375141\n",
       "LOGREG_SCALED              0.984791  0.314846\n",
       "Random_Forest              0.420152  0.465018\n",
       "SVM                        0.829848  0.356545\n",
       "SVM_SCALED                 0.829848  0.356545\n",
       "SVM_Tuned_Smote            0.994297  0.312425\n",
       "SVM_Tuned_ClassWeight      0.999049  0.313031\n",
       "LOGREG_Tuned               0.869772  0.318982\n",
       "Random_Forest_Tuned        0.462928  0.514527"
      ]
     },
     "execution_count": 89,
     "metadata": {},
     "output_type": "execute_result"
    }
   ],
   "source": [
    "data= {\n",
    "    \"LOGREG\" : [recall_LR_test,f1_LR_test],\n",
    "    \"LOGREG_SCALED\" : [recall_LR_test_scaled,f1_LR_test_scaled],\n",
    "    \"Random_Forest\" : [recall_RF_test,f1_RF_test],\n",
    "    \"SVM\" : [recall_SVM_test,f1_SVM_test],\n",
    "    \"SVM_SCALED\" : [recall_SVM_test_scaled,f1_SVM_test_scaled],\n",
    "    \"SVM_Tuned_Smote\" : [recall_SVM_Tuned_test,f1_SVM_Tuned_test],\n",
    "    \"SVM_Tuned_ClassWeight\" : [recall_SVM_Tuned_CW_test,f1_SVM_Tuned_CW_test],\n",
    "    \"LOGREG_Tuned\" : [recall_LR_Tuned_test,f1_LR_Tuned_test],\n",
    "    \"Random_Forest_Tuned\" : [recall_RF_Tuned_test,f1_RF_Tuned_test]}\n",
    "pd.DataFrame(data=data, index=['Recall Score',\"F1 Score\"]).T"
   ]
  },
  {
   "cell_type": "markdown",
   "metadata": {},
   "source": [
    "    MOdel terbaik adalah SVM_Tuned, karena memiliki nilai recall paling tinggi, dan model tidak underfitting maupun overfitting, merupakan pilihan terbaik, karena semua model yang dicoba masih overfitting dan underfitting lumayan tinggi. Selain itu yang menjadi pertimbangan adalah nilai False Negative, karena tujuannya adalah mengurangi jumlah tebakan salag yang dilakukan oleh model (nasabah yang aktualnya akan churn(1) tapi model memprediksi nasabah tersebut non-churn(0)). "
   ]
  },
  {
   "cell_type": "markdown",
   "metadata": {},
   "source": [
    "# KESIMPULAN DAN SARAN\n",
    "\n",
    "## KESIMPULAN\n",
    "    1. Feature yang memiliki pengaruh dan perlu menjadi perhatian lebih karena dari historical data, memiliki kencenderungan untuk berpindah bank tinggi :\n",
    "        - Age , Usia kategori dewasa (20-60) tahun, memiliki kecenderungan tinggi dibanding yang lainnya\n",
    "        - Gender , Male memiliki kecenderungan lebih tinggi untuk berpindah bank\n",
    "        - Dependets , nasabah yang belum memiliki tanggungan cenderung lebih tinggi kemungkinannya untuk churn.\n",
    "        - Occupation, apabila nasabah memperolah penghasilan dari kategori (self_employed) kemungkinannya untuk berpindah lebih besar.\n",
    "        - customer_nw_category, nasabah yang memiliki kekayaan dengan tingkat sedang(1) memiliki kecenderungam lebih tinggi untuk berpindah bank.\n",
    "        - current_balance, previous_month_balance, average_monthly_balance_prevq2,current_month_credit, previous_month_credit, current_month_debit, previous_month_debit, current_month_balance, semua pada feature ini, kategori \"rendah\" cenderung untuk berpindah bank.\n",
    "        - average_monthly_balance_prevq, kategori \"cukup_rendah\" memiliki kecenderungan paling tinggi untuk berpindah bank dibanding kategori lain.\n",
    "        - previous_month_balance, kategori \"tinggi\" memiliki kecenderungan paling tinggi untuk pindah bank.\n",
    "       \n",
    "    2. Model terbaik adalah SUPPORT VECTOR MACHINE dengan nilai recall terbaik dan memiliki False Negative paling sedikit.\n",
    "    \n",
    "\n",
    "\n",
    "## SARAN\n",
    "\n",
    "    1. Kemungkinan besar untuk mengurangi jumlah nasabah yang akan keluar adalah dengan meningkatkan servis, meningkatkan mutu produk dan mungkin promo menarik yang dapat ditawarkan kepada pelanggan. TERUTAMA nasabah dengan beberapa feature berikut yang memiliki kecenderungan lebih tingii untuk berpindah bank :\n",
    "        - Nasabah berusia 20-60 tahun,\n",
    "        - Nasabah Pria,\n",
    "        - Nasabah yang belum memiliki tanggungan/hidup untuk dirinya sendiri,\n",
    "        - Nasabah yang masih self_employed,\n",
    "        - Nasabah yang memiliki tingkat kekayaan menengah,\n",
    "        - Nasabah yang memiliki tingkat current_balance, previous_month_balance, average_monthly_balance_prevq2,current_month_credit, previous_month_credit, current_month_debit, previous_month_debit, current_month_balance \"rendah\",\n",
    "        - Nasabah yang memiliki tingkat average_monthly_balance_prevq \"tinggi\", dan\n",
    "        - Nasabah dengan tingkat previous_month_balance \"tinggi\".\n",
    "        \n",
    "    2. Mungkin bisa di improve lebih lagi mengenai confusion matrix model terbaik (SVM_Tuned_CW), memang sudah memenuhi goals karena memiliki nilai recall yang bagus (tidak overfitting maupun underfitting) dan memiliki nilai False negative (sangat kecil) jadi bisa mengurangi jumlah pengeluaran untuk mencari nasabah baru, karena model dapat memprediksi nasabah yang akan keluar, sehingga dapat dilakukan antisipasi, mungkin berupa penawaran/promo menarik, atau service lebih ditingkatkan. Dan untuk meminimalisir biaya yang dikeluarkan, mengecilkan False positive bisa menjadi opsi berikutnya, Karena false positive menginterpretasikan nasabah yang aktualnya tidak berpindah namun model memprediksi sebagai nasabah yang akan berpindah, sehingga kalua kita bias meminimalisir kemungkinan salah prediksi di False positive ini, kita bias mengurangi biaya untung meng-approach nasabah golongan FP ini.\n",
    "  \n",
    "    "
   ]
  },
  {
   "cell_type": "markdown",
   "metadata": {},
   "source": [
    "# IMPORT MODEL"
   ]
  },
  {
   "cell_type": "code",
   "execution_count": 127,
   "metadata": {},
   "outputs": [
    {
     "data": {
      "text/plain": [
       "['Churn_pred']"
      ]
     },
     "execution_count": 127,
     "metadata": {},
     "output_type": "execute_result"
    }
   ],
   "source": [
    "joblib.dump(SVM_Tuned_CW,\"Churn_pred\")"
   ]
  },
  {
   "cell_type": "code",
   "execution_count": 128,
   "metadata": {},
   "outputs": [
    {
     "data": {
      "text/html": [
       "<div>\n",
       "<style scoped>\n",
       "    .dataframe tbody tr th:only-of-type {\n",
       "        vertical-align: middle;\n",
       "    }\n",
       "\n",
       "    .dataframe tbody tr th {\n",
       "        vertical-align: top;\n",
       "    }\n",
       "\n",
       "    .dataframe thead th {\n",
       "        text-align: right;\n",
       "    }\n",
       "</style>\n",
       "<table border=\"1\" class=\"dataframe\">\n",
       "  <thead>\n",
       "    <tr style=\"text-align: right;\">\n",
       "      <th></th>\n",
       "      <th>age</th>\n",
       "      <th>dependents</th>\n",
       "      <th>occupation</th>\n",
       "      <th>customer_nw_category</th>\n",
       "      <th>current_balance</th>\n",
       "      <th>current_month_credit</th>\n",
       "      <th>previous_month_credit</th>\n",
       "      <th>gender_Female</th>\n",
       "      <th>gender_Male</th>\n",
       "    </tr>\n",
       "  </thead>\n",
       "  <tbody>\n",
       "    <tr>\n",
       "      <th>0</th>\n",
       "      <td>31</td>\n",
       "      <td>1</td>\n",
       "      <td>1</td>\n",
       "      <td>0</td>\n",
       "      <td>1681.620000</td>\n",
       "      <td>615.710000</td>\n",
       "      <td>1211.100000</td>\n",
       "      <td>1</td>\n",
       "      <td>0</td>\n",
       "    </tr>\n",
       "    <tr>\n",
       "      <th>1</th>\n",
       "      <td>40</td>\n",
       "      <td>0</td>\n",
       "      <td>1</td>\n",
       "      <td>0</td>\n",
       "      <td>1706.490000</td>\n",
       "      <td>0.270000</td>\n",
       "      <td>0.270000</td>\n",
       "      <td>1</td>\n",
       "      <td>0</td>\n",
       "    </tr>\n",
       "    <tr>\n",
       "      <th>2</th>\n",
       "      <td>47</td>\n",
       "      <td>0</td>\n",
       "      <td>1</td>\n",
       "      <td>1</td>\n",
       "      <td>2926.860000</td>\n",
       "      <td>357.830000</td>\n",
       "      <td>0.690000</td>\n",
       "      <td>0</td>\n",
       "      <td>1</td>\n",
       "    </tr>\n",
       "    <tr>\n",
       "      <th>3</th>\n",
       "      <td>90</td>\n",
       "      <td>0</td>\n",
       "      <td>2</td>\n",
       "      <td>3</td>\n",
       "      <td>13759.440000</td>\n",
       "      <td>5.500000</td>\n",
       "      <td>0.960000</td>\n",
       "      <td>1</td>\n",
       "      <td>0</td>\n",
       "    </tr>\n",
       "    <tr>\n",
       "      <th>4</th>\n",
       "      <td>48</td>\n",
       "      <td>0</td>\n",
       "      <td>2</td>\n",
       "      <td>1</td>\n",
       "      <td>6474.510000</td>\n",
       "      <td>0.560000</td>\n",
       "      <td>0.560000</td>\n",
       "      <td>1</td>\n",
       "      <td>0</td>\n",
       "    </tr>\n",
       "    <tr>\n",
       "      <th>...</th>\n",
       "      <td>...</td>\n",
       "      <td>...</td>\n",
       "      <td>...</td>\n",
       "      <td>...</td>\n",
       "      <td>...</td>\n",
       "      <td>...</td>\n",
       "      <td>...</td>\n",
       "      <td>...</td>\n",
       "      <td>...</td>\n",
       "    </tr>\n",
       "    <tr>\n",
       "      <th>36989</th>\n",
       "      <td>57</td>\n",
       "      <td>0</td>\n",
       "      <td>2</td>\n",
       "      <td>1</td>\n",
       "      <td>6098.349081</td>\n",
       "      <td>0.202181</td>\n",
       "      <td>0.202181</td>\n",
       "      <td>0</td>\n",
       "      <td>1</td>\n",
       "    </tr>\n",
       "    <tr>\n",
       "      <th>36990</th>\n",
       "      <td>38</td>\n",
       "      <td>0</td>\n",
       "      <td>2</td>\n",
       "      <td>1</td>\n",
       "      <td>1238.899886</td>\n",
       "      <td>0.291005</td>\n",
       "      <td>0.889498</td>\n",
       "      <td>0</td>\n",
       "      <td>1</td>\n",
       "    </tr>\n",
       "    <tr>\n",
       "      <th>36991</th>\n",
       "      <td>50</td>\n",
       "      <td>0</td>\n",
       "      <td>2</td>\n",
       "      <td>1</td>\n",
       "      <td>209.338897</td>\n",
       "      <td>147.603177</td>\n",
       "      <td>13397.143491</td>\n",
       "      <td>0</td>\n",
       "      <td>0</td>\n",
       "    </tr>\n",
       "    <tr>\n",
       "      <th>36992</th>\n",
       "      <td>57</td>\n",
       "      <td>1</td>\n",
       "      <td>1</td>\n",
       "      <td>1</td>\n",
       "      <td>1502.868665</td>\n",
       "      <td>0.355384</td>\n",
       "      <td>0.355384</td>\n",
       "      <td>0</td>\n",
       "      <td>1</td>\n",
       "    </tr>\n",
       "    <tr>\n",
       "      <th>36993</th>\n",
       "      <td>51</td>\n",
       "      <td>0</td>\n",
       "      <td>2</td>\n",
       "      <td>0</td>\n",
       "      <td>1462.119661</td>\n",
       "      <td>0.333116</td>\n",
       "      <td>0.333116</td>\n",
       "      <td>0</td>\n",
       "      <td>0</td>\n",
       "    </tr>\n",
       "  </tbody>\n",
       "</table>\n",
       "<p>36994 rows × 9 columns</p>\n",
       "</div>"
      ],
      "text/plain": [
       "       age  dependents  occupation  customer_nw_category  current_balance  \\\n",
       "0       31           1           1                     0      1681.620000   \n",
       "1       40           0           1                     0      1706.490000   \n",
       "2       47           0           1                     1      2926.860000   \n",
       "3       90           0           2                     3     13759.440000   \n",
       "4       48           0           2                     1      6474.510000   \n",
       "...    ...         ...         ...                   ...              ...   \n",
       "36989   57           0           2                     1      6098.349081   \n",
       "36990   38           0           2                     1      1238.899886   \n",
       "36991   50           0           2                     1       209.338897   \n",
       "36992   57           1           1                     1      1502.868665   \n",
       "36993   51           0           2                     0      1462.119661   \n",
       "\n",
       "       current_month_credit  previous_month_credit  gender_Female  gender_Male  \n",
       "0                615.710000            1211.100000              1            0  \n",
       "1                  0.270000               0.270000              1            0  \n",
       "2                357.830000               0.690000              0            1  \n",
       "3                  5.500000               0.960000              1            0  \n",
       "4                  0.560000               0.560000              1            0  \n",
       "...                     ...                    ...            ...          ...  \n",
       "36989              0.202181               0.202181              0            1  \n",
       "36990              0.291005               0.889498              0            1  \n",
       "36991            147.603177           13397.143491              0            0  \n",
       "36992              0.355384               0.355384              0            1  \n",
       "36993              0.333116               0.333116              0            0  \n",
       "\n",
       "[36994 rows x 9 columns]"
      ]
     },
     "execution_count": 128,
     "metadata": {},
     "output_type": "execute_result"
    }
   ],
   "source": [
    "x_train"
   ]
  },
  {
   "cell_type": "code",
   "execution_count": 129,
   "metadata": {},
   "outputs": [],
   "source": [
    "import joblib\n",
    "\n",
    "model = joblib.load('Churn_pred')"
   ]
  },
  {
   "cell_type": "code",
   "execution_count": 130,
   "metadata": {},
   "outputs": [
    {
     "data": {
      "text/plain": [
       "SVC(C=1000, class_weight={0: 0.4, 1: 100}, coef0=0.1, max_iter=2,\n",
       "    probability=True)"
      ]
     },
     "execution_count": 130,
     "metadata": {},
     "output_type": "execute_result"
    }
   ],
   "source": [
    "model"
   ]
  },
  {
   "cell_type": "code",
   "execution_count": 131,
   "metadata": {},
   "outputs": [],
   "source": [
    "y_new_proba = model.predict_proba([[75,0,2,1,1555.37,0.60,814.89,0,1]])[0]"
   ]
  },
  {
   "cell_type": "code",
   "execution_count": 132,
   "metadata": {},
   "outputs": [
    {
     "data": {
      "text/plain": [
       "array([0.81542534, 0.18457466])"
      ]
     },
     "execution_count": 132,
     "metadata": {},
     "output_type": "execute_result"
    }
   ],
   "source": [
    "y_new_proba"
   ]
  },
  {
   "cell_type": "code",
   "execution_count": 133,
   "metadata": {},
   "outputs": [],
   "source": [
    "y_new = model.predict([[75,0,2,1,1555.37,0.60,814.89,0,1]])"
   ]
  },
  {
   "cell_type": "code",
   "execution_count": 134,
   "metadata": {
    "scrolled": true
   },
   "outputs": [
    {
     "data": {
      "text/plain": [
       "1"
      ]
     },
     "execution_count": 134,
     "metadata": {},
     "output_type": "execute_result"
    }
   ],
   "source": [
    "y_new[0]"
   ]
  }
 ],
 "metadata": {
  "kernelspec": {
   "display_name": "Python 3",
   "language": "python",
   "name": "python3"
  },
  "language_info": {
   "codemirror_mode": {
    "name": "ipython",
    "version": 3
   },
   "file_extension": ".py",
   "mimetype": "text/x-python",
   "name": "python",
   "nbconvert_exporter": "python",
   "pygments_lexer": "ipython3",
   "version": "3.8.3"
  }
 },
 "nbformat": 4,
 "nbformat_minor": 4
}
